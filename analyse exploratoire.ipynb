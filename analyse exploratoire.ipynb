{
  "cells": [
    {
      "cell_type": "code",
      "execution_count": 2,
      "metadata": {
        "id": "FTYjfJm1bPOA"
      },
      "outputs": [],
      "source": [
        "import pandas as pd\n",
        "import pyarrow\n",
        "from pyspark.sql import SparkSession\n",
        "from google.colab import drive\n",
        "import numpy as np"
      ]
    },
    {
      "cell_type": "code",
      "source": [
        "drive.mount('/content/drive')\n"
      ],
      "metadata": {
        "colab": {
          "base_uri": "https://localhost:8080/"
        },
        "id": "HtPOHpoKVuMa",
        "outputId": "c3e0a706-f047-49a4-80d9-62bb85060baf"
      },
      "execution_count": 3,
      "outputs": [
        {
          "output_type": "stream",
          "name": "stdout",
          "text": [
            "Drive already mounted at /content/drive; to attempt to forcibly remount, call drive.mount(\"/content/drive\", force_remount=True).\n"
          ]
        }
      ]
    },
    {
      "cell_type": "markdown",
      "source": [
        "Si vous voulez utiliser les même chemin que moi, créez un raccourcit dans votre \"mon drive\" de mon dossier partagé \"nexialog\"\n",
        "https://drive.google.com/drive/folders/1d-uDDNs_H3Y977kY4F9A0elEoUKUxyz6?usp=drive_link"
      ],
      "metadata": {
        "id": "0dgoLs0t1Kvr"
      }
    },
    {
      "cell_type": "code",
      "source": [
        "chemin_donnees_brutes = \"/content/drive/MyDrive/nexialog/250203_tests_fixe_dns_sah_202412_202501.parquet\""
      ],
      "metadata": {
        "id": "uj2qkL8fVuZH"
      },
      "execution_count": 4,
      "outputs": []
    },
    {
      "cell_type": "code",
      "source": [
        "chemin_donnees_preprocessees = \"/content/drive/MyDrive/nexialog/250203_tests_fixe_dns_sah_202412_202501.parquet\""
      ],
      "metadata": {
        "id": "RLk_11ZX0rF5"
      },
      "execution_count": 24,
      "outputs": []
    },
    {
      "cell_type": "code",
      "source": [
        "donnee_brutes = pd.read_parquet(chemin_donnees_brutes, engine=\"pyarrow\").sort_values(by=\"date_hour\")"
      ],
      "metadata": {
        "id": "IlkqEKeh01RZ"
      },
      "execution_count": null,
      "outputs": []
    },
    {
      "cell_type": "markdown",
      "source": [
        "# rapport des données"
      ],
      "metadata": {
        "id": "n6xwi_yqfgpI"
      }
    },
    {
      "cell_type": "code",
      "source": [
        "! pip install ydata-profiling"
      ],
      "metadata": {
        "id": "XfVbkgCwfnQV"
      },
      "execution_count": null,
      "outputs": []
    },
    {
      "cell_type": "code",
      "execution_count": null,
      "metadata": {
        "id": "Cz9rhaSsbPOC"
      },
      "outputs": [],
      "source": [
        "from ydata_profiling import ProfileReport\n",
        "profil = ProfileReport(donnee_brutes)  # explorative=True active toutes les analyses\n"
      ]
    },
    {
      "cell_type": "code",
      "execution_count": null,
      "metadata": {
        "colab": {
          "base_uri": "https://localhost:8080/",
          "referenced_widgets": [
            "047d7a22e1cd4af290a5de54f3faf48a",
            "0207ad6313d94b58be483db7136f06a4",
            "6dd10315a2784bef8760251afe9ed58f",
            "5244432bc18d43d9b87e15f365582995",
            "89ab97ef55034773b528d1d47562d1a7",
            "39bb6e8a5b72480b9ca298ced2fc2bed",
            "4e6ccc9eca4e4251af3ba1eb1f437191",
            "0dd1434a37584a90ac096c86c1336778",
            "4a7f2b58e85147edabe7d0d936c60c1c",
            "319fdfd92c91459d8c505f4a2dc550a2",
            "c59f39be600a46e792101daeb4662be4"
          ]
        },
        "id": "VYMYraPdbPOD",
        "outputId": "e67338fd-679a-4327-9d9c-c2e1a01ebcec"
      },
      "outputs": [
        {
          "output_type": "display_data",
          "data": {
            "text/plain": [
              "Summarize dataset:   0%|          | 0/5 [00:00<?, ?it/s]"
            ],
            "application/vnd.jupyter.widget-view+json": {
              "version_major": 2,
              "version_minor": 0,
              "model_id": "047d7a22e1cd4af290a5de54f3faf48a"
            }
          },
          "metadata": {}
        }
      ],
      "source": [
        "profil.to_file(\"rapport_données_brutes.html\")"
      ]
    },
    {
      "cell_type": "markdown",
      "source": [
        "# exploration"
      ],
      "metadata": {
        "id": "2-G8Ol1vz9s_"
      }
    },
    {
      "cell_type": "code",
      "source": [
        "donnee_brutes.info()"
      ],
      "metadata": {
        "id": "1IOWULtIcbNt",
        "outputId": "c878da0c-febb-47b2-f7c8-598a09727cfa",
        "colab": {
          "base_uri": "https://localhost:8080/"
        }
      },
      "execution_count": null,
      "outputs": [
        {
          "output_type": "stream",
          "name": "stdout",
          "text": [
            "<class 'pandas.core.frame.DataFrame'>\n",
            "Index: 9964847 entries, 0 to 9964846\n",
            "Data columns (total 24 columns):\n",
            " #   Column               Dtype         \n",
            "---  ------               -----         \n",
            " 0   date_hour            datetime64[ns]\n",
            " 1   code_departement     object        \n",
            " 2   olt_model            object        \n",
            " 3   olt_name             object        \n",
            " 4   peag_nro             object        \n",
            " 5   boucle               object        \n",
            " 6   dsp                  object        \n",
            " 7   pebib                object        \n",
            " 8   pop_dns              object        \n",
            " 9   nb_test_dns          int64         \n",
            " 10  avg_dns_time         float64       \n",
            " 11  std_dns_time         float64       \n",
            " 12  nb_test_scoring      int64         \n",
            " 13  avg_latence_scoring  float64       \n",
            " 14  std_latence_scoring  float64       \n",
            " 15  avg_score_scoring    float64       \n",
            " 16  std_score_scoring    float64       \n",
            " 17  nb_client_total      int64         \n",
            " 18  moment_journee       object        \n",
            " 19  dep_pop_dns          object        \n",
            " 20  depts_egaux          bool          \n",
            " 21  region_pop_dns       object        \n",
            " 22  region_pm            object        \n",
            " 23  meme_region          bool          \n",
            "dtypes: bool(2), datetime64[ns](1), float64(6), int64(3), object(12)\n",
            "memory usage: 1.7+ GB\n"
          ]
        }
      ]
    },
    {
      "cell_type": "code",
      "source": [
        "len(donnee_brutes)"
      ],
      "metadata": {
        "colab": {
          "base_uri": "https://localhost:8080/"
        },
        "id": "Wl3WRa5DfZzU",
        "outputId": "0d4fc808-64aa-41fe-e2a1-2a096f7efdb0"
      },
      "execution_count": null,
      "outputs": [
        {
          "output_type": "execute_result",
          "data": {
            "text/plain": [
              "9964847"
            ]
          },
          "metadata": {},
          "execution_count": 19
        }
      ]
    },
    {
      "cell_type": "code",
      "source": [
        "len(donnee_brutes.drop_duplicates([\"date_hour\",\"olt_name\"]))"
      ],
      "metadata": {
        "colab": {
          "base_uri": "https://localhost:8080/"
        },
        "id": "AsXHO8WWkWj2",
        "outputId": "e541e8c3-8124-4c7b-900b-d8ed8ab6e360"
      },
      "execution_count": null,
      "outputs": [
        {
          "output_type": "execute_result",
          "data": {
            "text/plain": [
              "8492270"
            ]
          },
          "metadata": {},
          "execution_count": 33
        }
      ]
    },
    {
      "cell_type": "code",
      "source": [
        "len(donnee_brutes.drop_duplicates([\"date_hour\",\"peag_nro\"]))"
      ],
      "metadata": {
        "id": "Ro_OMWeun_NP",
        "outputId": "0e4a1582-50fd-4238-e975-696f2c5327d0",
        "colab": {
          "base_uri": "https://localhost:8080/"
        }
      },
      "execution_count": null,
      "outputs": [
        {
          "output_type": "execute_result",
          "data": {
            "text/plain": [
              "4447318"
            ]
          },
          "metadata": {},
          "execution_count": 34
        }
      ]
    },
    {
      "cell_type": "code",
      "source": [
        "#\n",
        "len(donnee_brutes[donnee_brutes['nb_client_total'] < 10])\n"
      ],
      "metadata": {
        "colab": {
          "base_uri": "https://localhost:8080/"
        },
        "id": "hTD1uh7-kp1D",
        "outputId": "cd2632ca-e658-456d-96b4-971313336176"
      },
      "execution_count": null,
      "outputs": [
        {
          "output_type": "execute_result",
          "data": {
            "text/plain": [
              "4167808"
            ]
          },
          "metadata": {},
          "execution_count": 32
        }
      ]
    },
    {
      "cell_type": "markdown",
      "source": [
        "# premier traitements\n"
      ],
      "metadata": {
        "id": "Z5PwQj-HfYRS"
      }
    },
    {
      "cell_type": "code",
      "source": [
        "donnee_brutes.columns"
      ],
      "metadata": {
        "colab": {
          "base_uri": "https://localhost:8080/"
        },
        "id": "Kx4diYdYkwrw",
        "outputId": "1298ef18-8add-4597-c2e1-e33c1d3e90cb"
      },
      "execution_count": 8,
      "outputs": [
        {
          "output_type": "execute_result",
          "data": {
            "text/plain": [
              "Index(['date_hour', 'code_departement', 'olt_model', 'olt_name', 'peag_nro',\n",
              "       'boucle', 'dsp', 'pebib', 'pop_dns', 'nb_test_dns', 'avg_dns_time',\n",
              "       'std_dns_time', 'nb_test_scoring', 'avg_latence_scoring',\n",
              "       'std_latence_scoring', 'avg_score_scoring', 'std_score_scoring',\n",
              "       'nb_client_total'],\n",
              "      dtype='object')"
            ]
          },
          "metadata": {},
          "execution_count": 8
        }
      ]
    },
    {
      "cell_type": "code",
      "source": [
        "# ____________________________________________________________calcul feature pour avoir le moment de la journée\n",
        "def definir_moment_journee(heure):\n",
        "    if 0 <= heure < 6:\n",
        "        return \"nuit\"\n",
        "    elif 6 <= heure < 12:\n",
        "        return \"matin\"\n",
        "    elif 12 <= heure < 18:\n",
        "        return \"après-midi\"\n",
        "    else:\n",
        "        return \"soir\"\n",
        "\n",
        "donnee_brutes[\"moment_journee\"] = donnee_brutes[\"date_hour\"].dt.hour.apply(definir_moment_journee)\n",
        "\n",
        "# Afficher un aperçu\n",
        "print(donnee_brutes[[\"date_hour\", \"moment_journee\"]].head())\n"
      ],
      "metadata": {
        "colab": {
          "base_uri": "https://localhost:8080/"
        },
        "id": "jRCmrqTqc9h6",
        "outputId": "4e9bdc68-74c8-4815-9127-b8773a8f25ae"
      },
      "execution_count": 6,
      "outputs": [
        {
          "output_type": "stream",
          "name": "stdout",
          "text": [
            "      date_hour moment_journee\n",
            "0    2024-12-01           nuit\n",
            "3812 2024-12-01           nuit\n",
            "3811 2024-12-01           nuit\n",
            "3810 2024-12-01           nuit\n",
            "3809 2024-12-01           nuit\n"
          ]
        }
      ]
    },
    {
      "cell_type": "code",
      "source": [
        "#_____________________________________________ création featuture si le test dns est au même département que le PM_______________________________\n",
        "\n",
        "departement_region = {\n",
        "    # Auvergne-Rhône-Alpes\n",
        "    \"01\": \"Auvergne-Rhône-Alpes\", \"03\": \"Auvergne-Rhône-Alpes\", \"07\": \"Auvergne-Rhône-Alpes\",\n",
        "    \"15\": \"Auvergne-Rhône-Alpes\", \"26\": \"Auvergne-Rhône-Alpes\", \"38\": \"Auvergne-Rhône-Alpes\",\n",
        "    \"42\": \"Auvergne-Rhône-Alpes\", \"43\": \"Auvergne-Rhône-Alpes\", \"63\": \"Auvergne-Rhône-Alpes\",\n",
        "    \"69\": \"Auvergne-Rhône-Alpes\", \"73\": \"Auvergne-Rhône-Alpes\", \"74\": \"Auvergne-Rhône-Alpes\",\n",
        "    # Bourgogne-Franche-Comté\n",
        "    \"21\": \"Bourgogne-Franche-Comté\", \"25\": \"Bourgogne-Franche-Comté\", \"39\": \"Bourgogne-Franche-Comté\",\n",
        "    \"58\": \"Bourgogne-Franche-Comté\", \"70\": \"Bourgogne-Franche-Comté\", \"71\": \"Bourgogne-Franche-Comté\",\n",
        "    \"89\": \"Bourgogne-Franche-Comté\", \"90\": \"Bourgogne-Franche-Comté\",\n",
        "    # Bretagne\n",
        "    \"22\": \"Bretagne\", \"29\": \"Bretagne\", \"35\": \"Bretagne\", \"56\": \"Bretagne\",\n",
        "    # Centre-Val de Loire\n",
        "    \"18\": \"Centre-Val de Loire\", \"28\": \"Centre-Val de Loire\", \"36\": \"Centre-Val de Loire\",\n",
        "    \"37\": \"Centre-Val de Loire\", \"41\": \"Centre-Val de Loire\", \"45\": \"Centre-Val de Loire\",\n",
        "    # Corse\n",
        "    \"2A\": \"Corse\", \"2B\": \"Corse\",\n",
        "    # Grand Est\n",
        "    \"08\": \"Grand Est\", \"10\": \"Grand Est\", \"51\": \"Grand Est\", \"52\": \"Grand Est\",\n",
        "    \"54\": \"Grand Est\", \"55\": \"Grand Est\", \"57\": \"Grand Est\", \"67\": \"Grand Est\",\n",
        "    \"68\": \"Grand Est\", \"88\": \"Grand Est\",\n",
        "    # Hauts-de-France\n",
        "    \"02\": \"Hauts-de-France\", \"59\": \"Hauts-de-France\", \"60\": \"Hauts-de-France\",\n",
        "    \"62\": \"Hauts-de-France\", \"80\": \"Hauts-de-France\",\n",
        "    # Île-de-France\n",
        "    \"75\": \"Île-de-France\", \"77\": \"Île-de-France\", \"78\": \"Île-de-France\",\n",
        "    \"91\": \"Île-de-France\", \"92\": \"Île-de-France\", \"93\": \"Île-de-France\",\n",
        "    \"94\": \"Île-de-France\", \"95\": \"Île-de-France\",\n",
        "    # Normandie\n",
        "    \"14\": \"Normandie\", \"27\": \"Normandie\", \"50\": \"Normandie\",\n",
        "    \"61\": \"Normandie\", \"76\": \"Normandie\",\n",
        "    # Nouvelle-Aquitaine\n",
        "    \"16\": \"Nouvelle-Aquitaine\", \"17\": \"Nouvelle-Aquitaine\", \"19\": \"Nouvelle-Aquitaine\",\n",
        "    \"23\": \"Nouvelle-Aquitaine\", \"24\": \"Nouvelle-Aquitaine\", \"33\": \"Nouvelle-Aquitaine\",\n",
        "    \"40\": \"Nouvelle-Aquitaine\", \"47\": \"Nouvelle-Aquitaine\", \"64\": \"Nouvelle-Aquitaine\",\n",
        "    \"79\": \"Nouvelle-Aquitaine\", \"86\": \"Nouvelle-Aquitaine\", \"87\": \"Nouvelle-Aquitaine\",\n",
        "    # Occitanie\n",
        "    \"09\": \"Occitanie\", \"11\": \"Occitanie\", \"12\": \"Occitanie\", \"30\": \"Occitanie\",\n",
        "    \"31\": \"Occitanie\", \"32\": \"Occitanie\", \"34\": \"Occitanie\", \"46\": \"Occitanie\",\n",
        "    \"48\": \"Occitanie\", \"65\": \"Occitanie\", \"66\": \"Occitanie\", \"81\": \"Occitanie\",\n",
        "    \"82\": \"Occitanie\",\n",
        "    # Pays de la Loire\n",
        "    \"44\": \"Pays de la Loire\", \"49\": \"Pays de la Loire\", \"53\": \"Pays de la Loire\",\n",
        "    \"72\": \"Pays de la Loire\", \"85\": \"Pays de la Loire\",\n",
        "    # Provence-Alpes-Côte d'Azur\n",
        "    \"04\": \"Provence-Alpes-Côte d'Azur\", \"05\": \"Provence-Alpes-Côte d'Azur\",\n",
        "    \"06\": \"Provence-Alpes-Côte d'Azur\", \"13\": \"Provence-Alpes-Côte d'Azur\",\n",
        "    \"83\": \"Provence-Alpes-Côte d'Azur\", \"84\": \"Provence-Alpes-Côte d'Azur\",\n",
        "    # Départements d'outre-mer\n",
        "    \"971\": \"Guadeloupe\", \"972\": \"Martinique\", \"973\": \"Guyane\", \"974\": \"La Réunion\", \"976\": \"Mayotte\"\n",
        "}\n",
        "\n",
        "donnee_brutes[\"dep_pop_dns\"] = donnee_brutes[\"pop_dns\"].str[:2]\n",
        "\n",
        "# Vérifier si les départements sont égaux\n",
        "donnee_brutes[\"depts_egaux\"] = donnee_brutes[\"dep_pop_dns\"] == donnee_brutes[\"code_departement\"]\n",
        "\n",
        "# Vérifier si les départements appartiennent à la même région\n",
        "donnee_brutes[\"region_pop_dns\"] = donnee_brutes[\"dep_pop_dns\"].map(departement_region)\n",
        "donnee_brutes[\"region_pm\"] = donnee_brutes[\"code_departement\"].map(departement_region)\n",
        "donnee_brutes[\"meme_region\"] = donnee_brutes[\"region_pop_dns\"] == donnee_brutes[\"region_pm\"]\n",
        "\n",
        "# Afficher un aperçu\n",
        "print(donnee_brutes[[\"code_departement\", \"pop_dns\", \"dep_pop_dns\", \"depts_egaux\", \"meme_region\"]].head())\n"
      ],
      "metadata": {
        "colab": {
          "base_uri": "https://localhost:8080/"
        },
        "id": "HZvBl1JtmxzQ",
        "outputId": "9af8b936-bb27-48ed-e782-b758aa3b05af"
      },
      "execution_count": 7,
      "outputs": [
        {
          "output_type": "stream",
          "name": "stdout",
          "text": [
            "     code_departement  pop_dns dep_pop_dns  depts_egaux  meme_region\n",
            "0                  01  69_lyon          69        False         True\n",
            "3812               64   33_bdx          33        False         True\n",
            "3811               64   33_bdx          33        False         True\n",
            "3810               64   33_bdx          33        False         True\n",
            "3809               64   33_bdx          33        False         True\n"
          ]
        }
      ]
    },
    {
      "cell_type": "code",
      "source": [
        "#___________________________________ supression ligne si pas beaucoup de client au niveau PM (en moyenne il y a 25 clients par PM)\n",
        "\n",
        "donnee_brutes_sans_pm_avec_peu_de_clients = donnee_brutes[donnee_brutes['nb_client_total'] > 15]\n",
        "assert len(donnee_brutes_sans_pm_avec_peu_de_clients.drop_duplicates([\"date_hour\"])) ==  len(donnee_brutes.drop_duplicates([\"date_hour\"]))\n"
      ],
      "metadata": {
        "id": "dMpXKp6Mof4E"
      },
      "execution_count": 14,
      "outputs": []
    },
    {
      "cell_type": "code",
      "source": [
        "# _________________________________________supression ligne si pas beaucoup de test au niveau des PM\n",
        "\n",
        "seuil_nombre_de_test_minimum = 5\n",
        "\n",
        "# Suppression des lignes où les deux colonnes sont en dessous du seuil\n",
        "donnee_brutes_sans_pm_avec_peu_de_clients = donnee_brutes_sans_pm_avec_peu_de_clients[\n",
        "    ~((donnee_brutes_sans_pm_avec_peu_de_clients[\"nb_test_scoring\"] < seuil_nombre_de_test_minimum) &\n",
        "      (donnee_brutes_sans_pm_avec_peu_de_clients[\"nb_test_dns\"] < seuil_nombre_de_test_minimum))\n",
        "]\n",
        "donnee_brutes_sans_pm_avec_peu_de_clients.loc[\n",
        "    donnee_brutes_sans_pm_avec_peu_de_clients[\"nb_test_dns\"] < seuil_nombre_de_test_minimum,\n",
        "    [\"avg_dns_time\", \"std_dns_time\"]\n",
        "] = np.nan\n",
        "\n",
        "# Remplacer par NaN si nb_test_scoring est sous le seuil\n",
        "donnee_brutes_sans_pm_avec_peu_de_clients.loc[\n",
        "    donnee_brutes_sans_pm_avec_peu_de_clients[\"nb_test_scoring\"] < seuil_nombre_de_test_minimum,\n",
        "    [ \"avg_latence_scoring\", \"std_latence_scoring\", \"avg_score_scoring\", \"std_score_scoring\"]\n",
        "] = np.nan\n",
        "\n",
        "donnee_brutes_sans_pm_avec_peu_de_clients_et_peu_de_tests = donnee_brutes_sans_pm_avec_peu_de_clients\n",
        "\n",
        "# Afficher un aperçu\n",
        "print(donnee_brutes_sans_pm_avec_peu_de_clients_et_peu_de_tests[\n",
        "    [\"nb_test_scoring\", \"nb_test_dns\", \"avg_dns_time\", \"std_dns_time\",\n",
        "     \"avg_latence_scoring\", \"std_latence_scoring\", \"avg_score_scoring\", \"std_score_scoring\"]\n",
        "].head())\n",
        "\n",
        "assert len(donnee_brutes_sans_pm_avec_peu_de_clients_et_peu_de_tests.drop_duplicates([\"date_hour\"])) ==  len(donnee_brutes.drop_duplicates([\"date_hour\"]))\n",
        "\n",
        ""
      ],
      "metadata": {
        "colab": {
          "base_uri": "https://localhost:8080/"
        },
        "id": "CEj1AtGywAqk",
        "outputId": "3155a23c-a62a-40fd-e55a-22d628d81c8d"
      },
      "execution_count": 15,
      "outputs": [
        {
          "output_type": "stream",
          "name": "stdout",
          "text": [
            "      nb_test_scoring  nb_test_dns  avg_dns_time  std_dns_time  \\\n",
            "0                  25           61      4.888439      0.834768   \n",
            "3811                4           17      3.583456      0.252478   \n",
            "3810               10           10      3.638700      0.616376   \n",
            "3802               12           20      4.808550      0.810622   \n",
            "3800               13           27      4.637250      0.434874   \n",
            "\n",
            "      avg_latence_scoring  std_latence_scoring  avg_score_scoring  \\\n",
            "0               10.462500             0.843750           2.852823   \n",
            "3811                  NaN                  NaN                NaN   \n",
            "3810             9.112500             0.237171           3.465882   \n",
            "3802             9.796875             0.289647           3.404412   \n",
            "3800             9.951923             0.270216           3.461539   \n",
            "\n",
            "      std_score_scoring  \n",
            "0              0.550380  \n",
            "3811                NaN  \n",
            "3810           0.005581  \n",
            "3802           0.207982  \n",
            "3800           0.004239  \n"
          ]
        }
      ]
    },
    {
      "cell_type": "code",
      "source": [
        "donnee_brutes_sans_pm_avec_peu_de_clients.to_parquet(\n",
        "    \"/content/drive/MyDrive/nexialog/donnee_brutes_sans_pm_avec_peu_de_clients_et_peu_de_tests.parquet\",\n",
        "    engine=\"pyarrow\",\n",
        "    index=False\n",
        ")\n"
      ],
      "metadata": {
        "id": "qhW70ttx0T1g"
      },
      "execution_count": 22,
      "outputs": []
    },
    {
      "cell_type": "markdown",
      "source": [
        "# agrégation et feature engenering"
      ],
      "metadata": {
        "id": "CZK6uWD60d2C"
      }
    },
    {
      "cell_type": "code",
      "source": [
        "donnees_preprocessees = pd.read_parquet(chemin_donnees_preprocessees, engine=\"pyarrow\").sort_values(by=\"date_hour\")"
      ],
      "metadata": {
        "id": "eILvAOGn026W"
      },
      "execution_count": 25,
      "outputs": []
    }
  ],
  "metadata": {
    "kernelspec": {
      "display_name": ".venv",
      "language": "python",
      "name": "python3"
    },
    "language_info": {
      "codemirror_mode": {
        "name": "ipython",
        "version": 3
      },
      "file_extension": ".py",
      "mimetype": "text/x-python",
      "name": "python",
      "nbconvert_exporter": "python",
      "pygments_lexer": "ipython3",
      "version": "3.11.0"
    },
    "colab": {
      "provenance": []
    },
    "widgets": {
      "application/vnd.jupyter.widget-state+json": {
        "047d7a22e1cd4af290a5de54f3faf48a": {
          "model_module": "@jupyter-widgets/controls",
          "model_name": "HBoxModel",
          "model_module_version": "1.5.0",
          "state": {
            "_dom_classes": [],
            "_model_module": "@jupyter-widgets/controls",
            "_model_module_version": "1.5.0",
            "_model_name": "HBoxModel",
            "_view_count": null,
            "_view_module": "@jupyter-widgets/controls",
            "_view_module_version": "1.5.0",
            "_view_name": "HBoxView",
            "box_style": "",
            "children": [
              "IPY_MODEL_0207ad6313d94b58be483db7136f06a4",
              "IPY_MODEL_6dd10315a2784bef8760251afe9ed58f",
              "IPY_MODEL_5244432bc18d43d9b87e15f365582995"
            ],
            "layout": "IPY_MODEL_89ab97ef55034773b528d1d47562d1a7"
          }
        },
        "0207ad6313d94b58be483db7136f06a4": {
          "model_module": "@jupyter-widgets/controls",
          "model_name": "HTMLModel",
          "model_module_version": "1.5.0",
          "state": {
            "_dom_classes": [],
            "_model_module": "@jupyter-widgets/controls",
            "_model_module_version": "1.5.0",
            "_model_name": "HTMLModel",
            "_view_count": null,
            "_view_module": "@jupyter-widgets/controls",
            "_view_module_version": "1.5.0",
            "_view_name": "HTMLView",
            "description": "",
            "description_tooltip": null,
            "layout": "IPY_MODEL_39bb6e8a5b72480b9ca298ced2fc2bed",
            "placeholder": "​",
            "style": "IPY_MODEL_4e6ccc9eca4e4251af3ba1eb1f437191",
            "value": "Summarize dataset:  94%"
          }
        },
        "6dd10315a2784bef8760251afe9ed58f": {
          "model_module": "@jupyter-widgets/controls",
          "model_name": "FloatProgressModel",
          "model_module_version": "1.5.0",
          "state": {
            "_dom_classes": [],
            "_model_module": "@jupyter-widgets/controls",
            "_model_module_version": "1.5.0",
            "_model_name": "FloatProgressModel",
            "_view_count": null,
            "_view_module": "@jupyter-widgets/controls",
            "_view_module_version": "1.5.0",
            "_view_name": "ProgressView",
            "bar_style": "",
            "description": "",
            "description_tooltip": null,
            "layout": "IPY_MODEL_0dd1434a37584a90ac096c86c1336778",
            "max": 5,
            "min": 0,
            "orientation": "horizontal",
            "style": "IPY_MODEL_4a7f2b58e85147edabe7d0d936c60c1c",
            "value": 5
          }
        },
        "5244432bc18d43d9b87e15f365582995": {
          "model_module": "@jupyter-widgets/controls",
          "model_name": "HTMLModel",
          "model_module_version": "1.5.0",
          "state": {
            "_dom_classes": [],
            "_model_module": "@jupyter-widgets/controls",
            "_model_module_version": "1.5.0",
            "_model_name": "HTMLModel",
            "_view_count": null,
            "_view_module": "@jupyter-widgets/controls",
            "_view_module_version": "1.5.0",
            "_view_name": "HTMLView",
            "description": "",
            "description_tooltip": null,
            "layout": "IPY_MODEL_319fdfd92c91459d8c505f4a2dc550a2",
            "placeholder": "​",
            "style": "IPY_MODEL_c59f39be600a46e792101daeb4662be4",
            "value": " 103/109 [12:00&lt;00:15,  2.54s/it, Missing diagram matrix]"
          }
        },
        "89ab97ef55034773b528d1d47562d1a7": {
          "model_module": "@jupyter-widgets/base",
          "model_name": "LayoutModel",
          "model_module_version": "1.2.0",
          "state": {
            "_model_module": "@jupyter-widgets/base",
            "_model_module_version": "1.2.0",
            "_model_name": "LayoutModel",
            "_view_count": null,
            "_view_module": "@jupyter-widgets/base",
            "_view_module_version": "1.2.0",
            "_view_name": "LayoutView",
            "align_content": null,
            "align_items": null,
            "align_self": null,
            "border": null,
            "bottom": null,
            "display": null,
            "flex": null,
            "flex_flow": null,
            "grid_area": null,
            "grid_auto_columns": null,
            "grid_auto_flow": null,
            "grid_auto_rows": null,
            "grid_column": null,
            "grid_gap": null,
            "grid_row": null,
            "grid_template_areas": null,
            "grid_template_columns": null,
            "grid_template_rows": null,
            "height": null,
            "justify_content": null,
            "justify_items": null,
            "left": null,
            "margin": null,
            "max_height": null,
            "max_width": null,
            "min_height": null,
            "min_width": null,
            "object_fit": null,
            "object_position": null,
            "order": null,
            "overflow": null,
            "overflow_x": null,
            "overflow_y": null,
            "padding": null,
            "right": null,
            "top": null,
            "visibility": null,
            "width": null
          }
        },
        "39bb6e8a5b72480b9ca298ced2fc2bed": {
          "model_module": "@jupyter-widgets/base",
          "model_name": "LayoutModel",
          "model_module_version": "1.2.0",
          "state": {
            "_model_module": "@jupyter-widgets/base",
            "_model_module_version": "1.2.0",
            "_model_name": "LayoutModel",
            "_view_count": null,
            "_view_module": "@jupyter-widgets/base",
            "_view_module_version": "1.2.0",
            "_view_name": "LayoutView",
            "align_content": null,
            "align_items": null,
            "align_self": null,
            "border": null,
            "bottom": null,
            "display": null,
            "flex": null,
            "flex_flow": null,
            "grid_area": null,
            "grid_auto_columns": null,
            "grid_auto_flow": null,
            "grid_auto_rows": null,
            "grid_column": null,
            "grid_gap": null,
            "grid_row": null,
            "grid_template_areas": null,
            "grid_template_columns": null,
            "grid_template_rows": null,
            "height": null,
            "justify_content": null,
            "justify_items": null,
            "left": null,
            "margin": null,
            "max_height": null,
            "max_width": null,
            "min_height": null,
            "min_width": null,
            "object_fit": null,
            "object_position": null,
            "order": null,
            "overflow": null,
            "overflow_x": null,
            "overflow_y": null,
            "padding": null,
            "right": null,
            "top": null,
            "visibility": null,
            "width": null
          }
        },
        "4e6ccc9eca4e4251af3ba1eb1f437191": {
          "model_module": "@jupyter-widgets/controls",
          "model_name": "DescriptionStyleModel",
          "model_module_version": "1.5.0",
          "state": {
            "_model_module": "@jupyter-widgets/controls",
            "_model_module_version": "1.5.0",
            "_model_name": "DescriptionStyleModel",
            "_view_count": null,
            "_view_module": "@jupyter-widgets/base",
            "_view_module_version": "1.2.0",
            "_view_name": "StyleView",
            "description_width": ""
          }
        },
        "0dd1434a37584a90ac096c86c1336778": {
          "model_module": "@jupyter-widgets/base",
          "model_name": "LayoutModel",
          "model_module_version": "1.2.0",
          "state": {
            "_model_module": "@jupyter-widgets/base",
            "_model_module_version": "1.2.0",
            "_model_name": "LayoutModel",
            "_view_count": null,
            "_view_module": "@jupyter-widgets/base",
            "_view_module_version": "1.2.0",
            "_view_name": "LayoutView",
            "align_content": null,
            "align_items": null,
            "align_self": null,
            "border": null,
            "bottom": null,
            "display": null,
            "flex": null,
            "flex_flow": null,
            "grid_area": null,
            "grid_auto_columns": null,
            "grid_auto_flow": null,
            "grid_auto_rows": null,
            "grid_column": null,
            "grid_gap": null,
            "grid_row": null,
            "grid_template_areas": null,
            "grid_template_columns": null,
            "grid_template_rows": null,
            "height": null,
            "justify_content": null,
            "justify_items": null,
            "left": null,
            "margin": null,
            "max_height": null,
            "max_width": null,
            "min_height": null,
            "min_width": null,
            "object_fit": null,
            "object_position": null,
            "order": null,
            "overflow": null,
            "overflow_x": null,
            "overflow_y": null,
            "padding": null,
            "right": null,
            "top": null,
            "visibility": null,
            "width": null
          }
        },
        "4a7f2b58e85147edabe7d0d936c60c1c": {
          "model_module": "@jupyter-widgets/controls",
          "model_name": "ProgressStyleModel",
          "model_module_version": "1.5.0",
          "state": {
            "_model_module": "@jupyter-widgets/controls",
            "_model_module_version": "1.5.0",
            "_model_name": "ProgressStyleModel",
            "_view_count": null,
            "_view_module": "@jupyter-widgets/base",
            "_view_module_version": "1.2.0",
            "_view_name": "StyleView",
            "bar_color": null,
            "description_width": ""
          }
        },
        "319fdfd92c91459d8c505f4a2dc550a2": {
          "model_module": "@jupyter-widgets/base",
          "model_name": "LayoutModel",
          "model_module_version": "1.2.0",
          "state": {
            "_model_module": "@jupyter-widgets/base",
            "_model_module_version": "1.2.0",
            "_model_name": "LayoutModel",
            "_view_count": null,
            "_view_module": "@jupyter-widgets/base",
            "_view_module_version": "1.2.0",
            "_view_name": "LayoutView",
            "align_content": null,
            "align_items": null,
            "align_self": null,
            "border": null,
            "bottom": null,
            "display": null,
            "flex": null,
            "flex_flow": null,
            "grid_area": null,
            "grid_auto_columns": null,
            "grid_auto_flow": null,
            "grid_auto_rows": null,
            "grid_column": null,
            "grid_gap": null,
            "grid_row": null,
            "grid_template_areas": null,
            "grid_template_columns": null,
            "grid_template_rows": null,
            "height": null,
            "justify_content": null,
            "justify_items": null,
            "left": null,
            "margin": null,
            "max_height": null,
            "max_width": null,
            "min_height": null,
            "min_width": null,
            "object_fit": null,
            "object_position": null,
            "order": null,
            "overflow": null,
            "overflow_x": null,
            "overflow_y": null,
            "padding": null,
            "right": null,
            "top": null,
            "visibility": null,
            "width": null
          }
        },
        "c59f39be600a46e792101daeb4662be4": {
          "model_module": "@jupyter-widgets/controls",
          "model_name": "DescriptionStyleModel",
          "model_module_version": "1.5.0",
          "state": {
            "_model_module": "@jupyter-widgets/controls",
            "_model_module_version": "1.5.0",
            "_model_name": "DescriptionStyleModel",
            "_view_count": null,
            "_view_module": "@jupyter-widgets/base",
            "_view_module_version": "1.2.0",
            "_view_name": "StyleView",
            "description_width": ""
          }
        }
      }
    }
  },
  "nbformat": 4,
  "nbformat_minor": 0
}