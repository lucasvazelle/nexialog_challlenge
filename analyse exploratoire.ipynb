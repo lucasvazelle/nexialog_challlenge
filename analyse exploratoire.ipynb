{
  "cells": [
    {
      "cell_type": "code",
      "execution_count": 2,
      "metadata": {
        "id": "FTYjfJm1bPOA"
      },
      "outputs": [],
      "source": [
        "import pandas as pd\n",
        "from pyspark.sql import SparkSession\n",
        "\n",
        "# Initialiser une session Spark\n",
        "spark = SparkSession.builder \\\n",
        "    .appName(\"Nexialog Anomaly Detection\") \\\n",
        "    .getOrCreate()\n",
        "\n"
      ]
    },
    {
      "cell_type": "code",
      "execution_count": null,
      "metadata": {
        "id": "ielfpKvPbPOB"
      },
      "outputs": [],
      "source": [
        "file_path = (r\"data/250203_tests_fixe_dns_sah_202412_202501.parquet\") #dans .gitignore\n"
      ]
    },
    {
      "cell_type": "code",
      "execution_count": null,
      "metadata": {
        "id": "QNB52FzrbPOC"
      },
      "outputs": [],
      "source": [
        "donnee_brutes = pd.read_parquet(file_path, engine=\"pyarrow\")  # ou engine=\"fastparquet\"\n"
      ]
    },
    {
      "cell_type": "code",
      "execution_count": null,
      "metadata": {
        "id": "XOVcTxwQbPOC",
        "outputId": "feaf5531-ccc3-4888-d0d3-756d87d53a7d"
      },
      "outputs": [
        {
          "data": {
            "text/html": [
              "<div>\n",
              "<style scoped>\n",
              "    .dataframe tbody tr th:only-of-type {\n",
              "        vertical-align: middle;\n",
              "    }\n",
              "\n",
              "    .dataframe tbody tr th {\n",
              "        vertical-align: top;\n",
              "    }\n",
              "\n",
              "    .dataframe thead th {\n",
              "        text-align: right;\n",
              "    }\n",
              "</style>\n",
              "<table border=\"1\" class=\"dataframe\">\n",
              "  <thead>\n",
              "    <tr style=\"text-align: right;\">\n",
              "      <th></th>\n",
              "      <th>date_hour</th>\n",
              "      <th>code_departement</th>\n",
              "      <th>olt_model</th>\n",
              "      <th>olt_name</th>\n",
              "      <th>peag_nro</th>\n",
              "      <th>boucle</th>\n",
              "      <th>dsp</th>\n",
              "      <th>pebib</th>\n",
              "      <th>pop_dns</th>\n",
              "      <th>nb_test_dns</th>\n",
              "      <th>avg_dns_time</th>\n",
              "      <th>std_dns_time</th>\n",
              "      <th>nb_test_scoring</th>\n",
              "      <th>avg_latence_scoring</th>\n",
              "      <th>std_latence_scoring</th>\n",
              "      <th>avg_score_scoring</th>\n",
              "      <th>std_score_scoring</th>\n",
              "      <th>nb_client_total</th>\n",
              "    </tr>\n",
              "  </thead>\n",
              "  <tbody>\n",
              "    <tr>\n",
              "      <th>0</th>\n",
              "      <td>2024-12-01</td>\n",
              "      <td>01</td>\n",
              "      <td>old0</td>\n",
              "      <td>01_olt_1</td>\n",
              "      <td>01_peag_1</td>\n",
              "      <td>BU966</td>\n",
              "      <td>dsp_1</td>\n",
              "      <td>69_pebib_1</td>\n",
              "      <td>69_lyon</td>\n",
              "      <td>61</td>\n",
              "      <td>4.888439</td>\n",
              "      <td>0.834768</td>\n",
              "      <td>25</td>\n",
              "      <td>10.462500</td>\n",
              "      <td>0.843750</td>\n",
              "      <td>2.852823</td>\n",
              "      <td>0.550380</td>\n",
              "      <td>86</td>\n",
              "    </tr>\n",
              "    <tr>\n",
              "      <th>1</th>\n",
              "      <td>2024-12-01</td>\n",
              "      <td>01</td>\n",
              "      <td>old0</td>\n",
              "      <td>01_olt_2</td>\n",
              "      <td>01_peag_2</td>\n",
              "      <td>BU966</td>\n",
              "      <td>dsp_1</td>\n",
              "      <td>21_pebib_2</td>\n",
              "      <td>69_lyon</td>\n",
              "      <td>60</td>\n",
              "      <td>6.341362</td>\n",
              "      <td>2.033462</td>\n",
              "      <td>18</td>\n",
              "      <td>11.000000</td>\n",
              "      <td>0.346331</td>\n",
              "      <td>3.100490</td>\n",
              "      <td>0.451774</td>\n",
              "      <td>78</td>\n",
              "    </tr>\n",
              "    <tr>\n",
              "      <th>2</th>\n",
              "      <td>2024-12-01</td>\n",
              "      <td>01</td>\n",
              "      <td>M11</td>\n",
              "      <td>01_olt_3</td>\n",
              "      <td>01_peag_3</td>\n",
              "      <td>BU1464</td>\n",
              "      <td>dsp_1</td>\n",
              "      <td>69_pebib_3</td>\n",
              "      <td>69_lyon</td>\n",
              "      <td>23</td>\n",
              "      <td>6.845641</td>\n",
              "      <td>0.377309</td>\n",
              "      <td>9</td>\n",
              "      <td>11.437500</td>\n",
              "      <td>0.281250</td>\n",
              "      <td>3.258823</td>\n",
              "      <td>0.375156</td>\n",
              "      <td>32</td>\n",
              "    </tr>\n",
              "    <tr>\n",
              "      <th>3</th>\n",
              "      <td>2024-12-01</td>\n",
              "      <td>01</td>\n",
              "      <td>M11</td>\n",
              "      <td>01_olt_4</td>\n",
              "      <td>01_peag_3</td>\n",
              "      <td>BU1464</td>\n",
              "      <td>dsp_1</td>\n",
              "      <td>69_pebib_3</td>\n",
              "      <td>69_lyon</td>\n",
              "      <td>10</td>\n",
              "      <td>7.060350</td>\n",
              "      <td>0.392031</td>\n",
              "      <td>4</td>\n",
              "      <td>12.656250</td>\n",
              "      <td>2.079476</td>\n",
              "      <td>2.576471</td>\n",
              "      <td>1.272078</td>\n",
              "      <td>14</td>\n",
              "    </tr>\n",
              "    <tr>\n",
              "      <th>4</th>\n",
              "      <td>2024-12-01</td>\n",
              "      <td>01</td>\n",
              "      <td>M13</td>\n",
              "      <td>01_olt_5</td>\n",
              "      <td>01_peag_4</td>\n",
              "      <td>BU458</td>\n",
              "      <td>dsp_1</td>\n",
              "      <td>None</td>\n",
              "      <td>69_lyon</td>\n",
              "      <td>28</td>\n",
              "      <td>2.787241</td>\n",
              "      <td>0.410001</td>\n",
              "      <td>16</td>\n",
              "      <td>8.542969</td>\n",
              "      <td>0.512205</td>\n",
              "      <td>2.868750</td>\n",
              "      <td>0.714469</td>\n",
              "      <td>44</td>\n",
              "    </tr>\n",
              "  </tbody>\n",
              "</table>\n",
              "</div>"
            ],
            "text/plain": [
              "   date_hour code_departement olt_model  olt_name   peag_nro  boucle    dsp  \\\n",
              "0 2024-12-01               01      old0  01_olt_1  01_peag_1   BU966  dsp_1   \n",
              "1 2024-12-01               01      old0  01_olt_2  01_peag_2   BU966  dsp_1   \n",
              "2 2024-12-01               01       M11  01_olt_3  01_peag_3  BU1464  dsp_1   \n",
              "3 2024-12-01               01       M11  01_olt_4  01_peag_3  BU1464  dsp_1   \n",
              "4 2024-12-01               01       M13  01_olt_5  01_peag_4   BU458  dsp_1   \n",
              "\n",
              "        pebib  pop_dns  nb_test_dns  avg_dns_time  std_dns_time  \\\n",
              "0  69_pebib_1  69_lyon           61      4.888439      0.834768   \n",
              "1  21_pebib_2  69_lyon           60      6.341362      2.033462   \n",
              "2  69_pebib_3  69_lyon           23      6.845641      0.377309   \n",
              "3  69_pebib_3  69_lyon           10      7.060350      0.392031   \n",
              "4        None  69_lyon           28      2.787241      0.410001   \n",
              "\n",
              "   nb_test_scoring  avg_latence_scoring  std_latence_scoring  \\\n",
              "0               25            10.462500             0.843750   \n",
              "1               18            11.000000             0.346331   \n",
              "2                9            11.437500             0.281250   \n",
              "3                4            12.656250             2.079476   \n",
              "4               16             8.542969             0.512205   \n",
              "\n",
              "   avg_score_scoring  std_score_scoring  nb_client_total  \n",
              "0           2.852823           0.550380               86  \n",
              "1           3.100490           0.451774               78  \n",
              "2           3.258823           0.375156               32  \n",
              "3           2.576471           1.272078               14  \n",
              "4           2.868750           0.714469               44  "
            ]
          },
          "execution_count": 4,
          "metadata": {},
          "output_type": "execute_result"
        }
      ],
      "source": [
        "donnee_brutes.head()"
      ]
    },
    {
      "cell_type": "code",
      "execution_count": null,
      "metadata": {
        "id": "JvOhjABfbPOC",
        "outputId": "e943e225-0cce-4aac-b786-57cdc2e37d91"
      },
      "outputs": [
        {
          "data": {
            "text/plain": [
              "9964847"
            ]
          },
          "execution_count": 5,
          "metadata": {},
          "output_type": "execute_result"
        }
      ],
      "source": [
        "len(donnee_brutes)"
      ]
    },
    {
      "cell_type": "code",
      "execution_count": null,
      "metadata": {
        "id": "cHvxJOZObPOC"
      },
      "outputs": [],
      "source": [
        "donnee_brutes_réduite = donnee_brutes.sample(n=7000000, random_state=42)  # Prendre un échantillon\n"
      ]
    },
    {
      "cell_type": "code",
      "execution_count": null,
      "metadata": {
        "id": "Cz9rhaSsbPOC",
        "outputId": "af83125e-7acc-4de6-8d22-8c7f9ff3f974"
      },
      "outputs": [
        {
          "ename": "",
          "evalue": "",
          "output_type": "error",
          "traceback": [
            "\u001b[1;31mLe noyau s’est bloqué lors de l’exécution du code dans une cellule active ou une cellule précédente. \n",
            "\u001b[1;31mVeuillez vérifier le code dans la ou les cellules pour identifier une cause possible de l’échec. \n",
            "\u001b[1;31mCliquez <a href='https://aka.ms/vscodeJupyterKernelCrash'>ici</a> pour plus d’informations. \n",
            "\u001b[1;31mPour plus d’informations, consultez Jupyter <a href='command:jupyter.viewOutput'>log</a>."
          ]
        }
      ],
      "source": [
        "profil = ProfileReport(donnee_brutes_réduite)  # explorative=True active toutes les analyses\n"
      ]
    },
    {
      "cell_type": "code",
      "execution_count": null,
      "metadata": {
        "id": "VYMYraPdbPOD",
        "outputId": "55ef9dae-fa7c-4d5a-e883-072cd2aa825c"
      },
      "outputs": [
        {
          "name": "stderr",
          "output_type": "stream",
          "text": [
            "Summarize dataset:   0%|          | 0/5 [00:00<?, ?it/s]"
          ]
        },
        {
          "name": "stderr",
          "output_type": "stream",
          "text": [
            "Summarize dataset:   0%|          | 0/23 [01:14<?, ?it/s]\n"
          ]
        }
      ],
      "source": [
        "profil.to_file(\"rapport_données_brutes.html\")"
      ]
    }
  ],
  "metadata": {
    "kernelspec": {
      "display_name": ".venv",
      "language": "python",
      "name": "python3"
    },
    "language_info": {
      "codemirror_mode": {
        "name": "ipython",
        "version": 3
      },
      "file_extension": ".py",
      "mimetype": "text/x-python",
      "name": "python",
      "nbconvert_exporter": "python",
      "pygments_lexer": "ipython3",
      "version": "3.11.0"
    },
    "colab": {
      "provenance": [],
      "toc_visible": true
    }
  },
  "nbformat": 4,
  "nbformat_minor": 0
}