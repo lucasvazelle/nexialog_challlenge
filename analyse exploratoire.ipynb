{
  "cells": [
    {
      "cell_type": "code",
      "execution_count": 1,
      "metadata": {
        "id": "FTYjfJm1bPOA"
      },
      "outputs": [],
      "source": [
        "import pandas as pd\n",
        "import pyarrow\n",
        "from pyspark.sql import SparkSession"
      ]
    },
    {
      "cell_type": "code",
      "execution_count": 2,
      "metadata": {
        "id": "ielfpKvPbPOB"
      },
      "outputs": [],
      "source": [
        "file_path = (r\"data/250203_tests_fixe_dns_sah_202412_202501.parquet\") #dans .gitignore\n"
      ]
    },
    {
      "cell_type": "code",
      "execution_count": null,
      "metadata": {
        "id": "QNB52FzrbPOC"
      },
      "outputs": [],
      "source": [
        "donnee_brutes = pd.read_parquet(file_path, engine=\"pyarrow\")  # ou engine=\"fastparquet\"\n"
      ]
    },
    {
      "cell_type": "markdown",
      "source": [
        "# rapport des données"
      ],
      "metadata": {
        "id": "n6xwi_yqfgpI"
      }
    },
    {
      "cell_type": "code",
      "source": [
        "! pip install ydata-profiling"
      ],
      "metadata": {
        "id": "XfVbkgCwfnQV"
      },
      "execution_count": null,
      "outputs": []
    },
    {
      "cell_type": "code",
      "execution_count": null,
      "metadata": {
        "colab": {
          "base_uri": "https://localhost:8080/",
          "height": 313
        },
        "id": "XOVcTxwQbPOC",
        "outputId": "7f10843f-e608-4cbe-fb72-9606111f0aff"
      },
      "outputs": [
        {
          "output_type": "execute_result",
          "data": {
            "text/plain": [
              "   date_hour code_departement olt_model  olt_name   peag_nro  boucle    dsp  \\\n",
              "0 2024-12-01               01      old0  01_olt_1  01_peag_1   BU966  dsp_1   \n",
              "1 2024-12-01               01      old0  01_olt_2  01_peag_2   BU966  dsp_1   \n",
              "2 2024-12-01               01       M11  01_olt_3  01_peag_3  BU1464  dsp_1   \n",
              "3 2024-12-01               01       M11  01_olt_4  01_peag_3  BU1464  dsp_1   \n",
              "4 2024-12-01               01       M13  01_olt_5  01_peag_4   BU458  dsp_1   \n",
              "\n",
              "        pebib  pop_dns  nb_test_dns  avg_dns_time  std_dns_time  \\\n",
              "0  69_pebib_1  69_lyon           61      4.888439      0.834768   \n",
              "1  21_pebib_2  69_lyon           60      6.341362      2.033462   \n",
              "2  69_pebib_3  69_lyon           23      6.845641      0.377309   \n",
              "3  69_pebib_3  69_lyon           10      7.060350      0.392031   \n",
              "4        None  69_lyon           28      2.787241      0.410001   \n",
              "\n",
              "   nb_test_scoring  avg_latence_scoring  std_latence_scoring  \\\n",
              "0               25            10.462500             0.843750   \n",
              "1               18            11.000000             0.346331   \n",
              "2                9            11.437500             0.281250   \n",
              "3                4            12.656250             2.079476   \n",
              "4               16             8.542969             0.512205   \n",
              "\n",
              "   avg_score_scoring  std_score_scoring  nb_client_total  \n",
              "0           2.852823           0.550380               86  \n",
              "1           3.100490           0.451774               78  \n",
              "2           3.258823           0.375156               32  \n",
              "3           2.576471           1.272078               14  \n",
              "4           2.868750           0.714469               44  "
            ],
            "text/html": [
              "\n",
              "  <div id=\"df-cd3f55e4-e619-4b0e-8d07-27fdfd55c37d\" class=\"colab-df-container\">\n",
              "    <div>\n",
              "<style scoped>\n",
              "    .dataframe tbody tr th:only-of-type {\n",
              "        vertical-align: middle;\n",
              "    }\n",
              "\n",
              "    .dataframe tbody tr th {\n",
              "        vertical-align: top;\n",
              "    }\n",
              "\n",
              "    .dataframe thead th {\n",
              "        text-align: right;\n",
              "    }\n",
              "</style>\n",
              "<table border=\"1\" class=\"dataframe\">\n",
              "  <thead>\n",
              "    <tr style=\"text-align: right;\">\n",
              "      <th></th>\n",
              "      <th>date_hour</th>\n",
              "      <th>code_departement</th>\n",
              "      <th>olt_model</th>\n",
              "      <th>olt_name</th>\n",
              "      <th>peag_nro</th>\n",
              "      <th>boucle</th>\n",
              "      <th>dsp</th>\n",
              "      <th>pebib</th>\n",
              "      <th>pop_dns</th>\n",
              "      <th>nb_test_dns</th>\n",
              "      <th>avg_dns_time</th>\n",
              "      <th>std_dns_time</th>\n",
              "      <th>nb_test_scoring</th>\n",
              "      <th>avg_latence_scoring</th>\n",
              "      <th>std_latence_scoring</th>\n",
              "      <th>avg_score_scoring</th>\n",
              "      <th>std_score_scoring</th>\n",
              "      <th>nb_client_total</th>\n",
              "    </tr>\n",
              "  </thead>\n",
              "  <tbody>\n",
              "    <tr>\n",
              "      <th>0</th>\n",
              "      <td>2024-12-01</td>\n",
              "      <td>01</td>\n",
              "      <td>old0</td>\n",
              "      <td>01_olt_1</td>\n",
              "      <td>01_peag_1</td>\n",
              "      <td>BU966</td>\n",
              "      <td>dsp_1</td>\n",
              "      <td>69_pebib_1</td>\n",
              "      <td>69_lyon</td>\n",
              "      <td>61</td>\n",
              "      <td>4.888439</td>\n",
              "      <td>0.834768</td>\n",
              "      <td>25</td>\n",
              "      <td>10.462500</td>\n",
              "      <td>0.843750</td>\n",
              "      <td>2.852823</td>\n",
              "      <td>0.550380</td>\n",
              "      <td>86</td>\n",
              "    </tr>\n",
              "    <tr>\n",
              "      <th>1</th>\n",
              "      <td>2024-12-01</td>\n",
              "      <td>01</td>\n",
              "      <td>old0</td>\n",
              "      <td>01_olt_2</td>\n",
              "      <td>01_peag_2</td>\n",
              "      <td>BU966</td>\n",
              "      <td>dsp_1</td>\n",
              "      <td>21_pebib_2</td>\n",
              "      <td>69_lyon</td>\n",
              "      <td>60</td>\n",
              "      <td>6.341362</td>\n",
              "      <td>2.033462</td>\n",
              "      <td>18</td>\n",
              "      <td>11.000000</td>\n",
              "      <td>0.346331</td>\n",
              "      <td>3.100490</td>\n",
              "      <td>0.451774</td>\n",
              "      <td>78</td>\n",
              "    </tr>\n",
              "    <tr>\n",
              "      <th>2</th>\n",
              "      <td>2024-12-01</td>\n",
              "      <td>01</td>\n",
              "      <td>M11</td>\n",
              "      <td>01_olt_3</td>\n",
              "      <td>01_peag_3</td>\n",
              "      <td>BU1464</td>\n",
              "      <td>dsp_1</td>\n",
              "      <td>69_pebib_3</td>\n",
              "      <td>69_lyon</td>\n",
              "      <td>23</td>\n",
              "      <td>6.845641</td>\n",
              "      <td>0.377309</td>\n",
              "      <td>9</td>\n",
              "      <td>11.437500</td>\n",
              "      <td>0.281250</td>\n",
              "      <td>3.258823</td>\n",
              "      <td>0.375156</td>\n",
              "      <td>32</td>\n",
              "    </tr>\n",
              "    <tr>\n",
              "      <th>3</th>\n",
              "      <td>2024-12-01</td>\n",
              "      <td>01</td>\n",
              "      <td>M11</td>\n",
              "      <td>01_olt_4</td>\n",
              "      <td>01_peag_3</td>\n",
              "      <td>BU1464</td>\n",
              "      <td>dsp_1</td>\n",
              "      <td>69_pebib_3</td>\n",
              "      <td>69_lyon</td>\n",
              "      <td>10</td>\n",
              "      <td>7.060350</td>\n",
              "      <td>0.392031</td>\n",
              "      <td>4</td>\n",
              "      <td>12.656250</td>\n",
              "      <td>2.079476</td>\n",
              "      <td>2.576471</td>\n",
              "      <td>1.272078</td>\n",
              "      <td>14</td>\n",
              "    </tr>\n",
              "    <tr>\n",
              "      <th>4</th>\n",
              "      <td>2024-12-01</td>\n",
              "      <td>01</td>\n",
              "      <td>M13</td>\n",
              "      <td>01_olt_5</td>\n",
              "      <td>01_peag_4</td>\n",
              "      <td>BU458</td>\n",
              "      <td>dsp_1</td>\n",
              "      <td>None</td>\n",
              "      <td>69_lyon</td>\n",
              "      <td>28</td>\n",
              "      <td>2.787241</td>\n",
              "      <td>0.410001</td>\n",
              "      <td>16</td>\n",
              "      <td>8.542969</td>\n",
              "      <td>0.512205</td>\n",
              "      <td>2.868750</td>\n",
              "      <td>0.714469</td>\n",
              "      <td>44</td>\n",
              "    </tr>\n",
              "  </tbody>\n",
              "</table>\n",
              "</div>\n",
              "    <div class=\"colab-df-buttons\">\n",
              "\n",
              "  <div class=\"colab-df-container\">\n",
              "    <button class=\"colab-df-convert\" onclick=\"convertToInteractive('df-cd3f55e4-e619-4b0e-8d07-27fdfd55c37d')\"\n",
              "            title=\"Convert this dataframe to an interactive table.\"\n",
              "            style=\"display:none;\">\n",
              "\n",
              "  <svg xmlns=\"http://www.w3.org/2000/svg\" height=\"24px\" viewBox=\"0 -960 960 960\">\n",
              "    <path d=\"M120-120v-720h720v720H120Zm60-500h600v-160H180v160Zm220 220h160v-160H400v160Zm0 220h160v-160H400v160ZM180-400h160v-160H180v160Zm440 0h160v-160H620v160ZM180-180h160v-160H180v160Zm440 0h160v-160H620v160Z\"/>\n",
              "  </svg>\n",
              "    </button>\n",
              "\n",
              "  <style>\n",
              "    .colab-df-container {\n",
              "      display:flex;\n",
              "      gap: 12px;\n",
              "    }\n",
              "\n",
              "    .colab-df-convert {\n",
              "      background-color: #E8F0FE;\n",
              "      border: none;\n",
              "      border-radius: 50%;\n",
              "      cursor: pointer;\n",
              "      display: none;\n",
              "      fill: #1967D2;\n",
              "      height: 32px;\n",
              "      padding: 0 0 0 0;\n",
              "      width: 32px;\n",
              "    }\n",
              "\n",
              "    .colab-df-convert:hover {\n",
              "      background-color: #E2EBFA;\n",
              "      box-shadow: 0px 1px 2px rgba(60, 64, 67, 0.3), 0px 1px 3px 1px rgba(60, 64, 67, 0.15);\n",
              "      fill: #174EA6;\n",
              "    }\n",
              "\n",
              "    .colab-df-buttons div {\n",
              "      margin-bottom: 4px;\n",
              "    }\n",
              "\n",
              "    [theme=dark] .colab-df-convert {\n",
              "      background-color: #3B4455;\n",
              "      fill: #D2E3FC;\n",
              "    }\n",
              "\n",
              "    [theme=dark] .colab-df-convert:hover {\n",
              "      background-color: #434B5C;\n",
              "      box-shadow: 0px 1px 3px 1px rgba(0, 0, 0, 0.15);\n",
              "      filter: drop-shadow(0px 1px 2px rgba(0, 0, 0, 0.3));\n",
              "      fill: #FFFFFF;\n",
              "    }\n",
              "  </style>\n",
              "\n",
              "    <script>\n",
              "      const buttonEl =\n",
              "        document.querySelector('#df-cd3f55e4-e619-4b0e-8d07-27fdfd55c37d button.colab-df-convert');\n",
              "      buttonEl.style.display =\n",
              "        google.colab.kernel.accessAllowed ? 'block' : 'none';\n",
              "\n",
              "      async function convertToInteractive(key) {\n",
              "        const element = document.querySelector('#df-cd3f55e4-e619-4b0e-8d07-27fdfd55c37d');\n",
              "        const dataTable =\n",
              "          await google.colab.kernel.invokeFunction('convertToInteractive',\n",
              "                                                    [key], {});\n",
              "        if (!dataTable) return;\n",
              "\n",
              "        const docLinkHtml = 'Like what you see? Visit the ' +\n",
              "          '<a target=\"_blank\" href=https://colab.research.google.com/notebooks/data_table.ipynb>data table notebook</a>'\n",
              "          + ' to learn more about interactive tables.';\n",
              "        element.innerHTML = '';\n",
              "        dataTable['output_type'] = 'display_data';\n",
              "        await google.colab.output.renderOutput(dataTable, element);\n",
              "        const docLink = document.createElement('div');\n",
              "        docLink.innerHTML = docLinkHtml;\n",
              "        element.appendChild(docLink);\n",
              "      }\n",
              "    </script>\n",
              "  </div>\n",
              "\n",
              "\n",
              "<div id=\"df-522b7da4-ea2a-47b3-9c8d-47cefcbe089d\">\n",
              "  <button class=\"colab-df-quickchart\" onclick=\"quickchart('df-522b7da4-ea2a-47b3-9c8d-47cefcbe089d')\"\n",
              "            title=\"Suggest charts\"\n",
              "            style=\"display:none;\">\n",
              "\n",
              "<svg xmlns=\"http://www.w3.org/2000/svg\" height=\"24px\"viewBox=\"0 0 24 24\"\n",
              "     width=\"24px\">\n",
              "    <g>\n",
              "        <path d=\"M19 3H5c-1.1 0-2 .9-2 2v14c0 1.1.9 2 2 2h14c1.1 0 2-.9 2-2V5c0-1.1-.9-2-2-2zM9 17H7v-7h2v7zm4 0h-2V7h2v10zm4 0h-2v-4h2v4z\"/>\n",
              "    </g>\n",
              "</svg>\n",
              "  </button>\n",
              "\n",
              "<style>\n",
              "  .colab-df-quickchart {\n",
              "      --bg-color: #E8F0FE;\n",
              "      --fill-color: #1967D2;\n",
              "      --hover-bg-color: #E2EBFA;\n",
              "      --hover-fill-color: #174EA6;\n",
              "      --disabled-fill-color: #AAA;\n",
              "      --disabled-bg-color: #DDD;\n",
              "  }\n",
              "\n",
              "  [theme=dark] .colab-df-quickchart {\n",
              "      --bg-color: #3B4455;\n",
              "      --fill-color: #D2E3FC;\n",
              "      --hover-bg-color: #434B5C;\n",
              "      --hover-fill-color: #FFFFFF;\n",
              "      --disabled-bg-color: #3B4455;\n",
              "      --disabled-fill-color: #666;\n",
              "  }\n",
              "\n",
              "  .colab-df-quickchart {\n",
              "    background-color: var(--bg-color);\n",
              "    border: none;\n",
              "    border-radius: 50%;\n",
              "    cursor: pointer;\n",
              "    display: none;\n",
              "    fill: var(--fill-color);\n",
              "    height: 32px;\n",
              "    padding: 0;\n",
              "    width: 32px;\n",
              "  }\n",
              "\n",
              "  .colab-df-quickchart:hover {\n",
              "    background-color: var(--hover-bg-color);\n",
              "    box-shadow: 0 1px 2px rgba(60, 64, 67, 0.3), 0 1px 3px 1px rgba(60, 64, 67, 0.15);\n",
              "    fill: var(--button-hover-fill-color);\n",
              "  }\n",
              "\n",
              "  .colab-df-quickchart-complete:disabled,\n",
              "  .colab-df-quickchart-complete:disabled:hover {\n",
              "    background-color: var(--disabled-bg-color);\n",
              "    fill: var(--disabled-fill-color);\n",
              "    box-shadow: none;\n",
              "  }\n",
              "\n",
              "  .colab-df-spinner {\n",
              "    border: 2px solid var(--fill-color);\n",
              "    border-color: transparent;\n",
              "    border-bottom-color: var(--fill-color);\n",
              "    animation:\n",
              "      spin 1s steps(1) infinite;\n",
              "  }\n",
              "\n",
              "  @keyframes spin {\n",
              "    0% {\n",
              "      border-color: transparent;\n",
              "      border-bottom-color: var(--fill-color);\n",
              "      border-left-color: var(--fill-color);\n",
              "    }\n",
              "    20% {\n",
              "      border-color: transparent;\n",
              "      border-left-color: var(--fill-color);\n",
              "      border-top-color: var(--fill-color);\n",
              "    }\n",
              "    30% {\n",
              "      border-color: transparent;\n",
              "      border-left-color: var(--fill-color);\n",
              "      border-top-color: var(--fill-color);\n",
              "      border-right-color: var(--fill-color);\n",
              "    }\n",
              "    40% {\n",
              "      border-color: transparent;\n",
              "      border-right-color: var(--fill-color);\n",
              "      border-top-color: var(--fill-color);\n",
              "    }\n",
              "    60% {\n",
              "      border-color: transparent;\n",
              "      border-right-color: var(--fill-color);\n",
              "    }\n",
              "    80% {\n",
              "      border-color: transparent;\n",
              "      border-right-color: var(--fill-color);\n",
              "      border-bottom-color: var(--fill-color);\n",
              "    }\n",
              "    90% {\n",
              "      border-color: transparent;\n",
              "      border-bottom-color: var(--fill-color);\n",
              "    }\n",
              "  }\n",
              "</style>\n",
              "\n",
              "  <script>\n",
              "    async function quickchart(key) {\n",
              "      const quickchartButtonEl =\n",
              "        document.querySelector('#' + key + ' button');\n",
              "      quickchartButtonEl.disabled = true;  // To prevent multiple clicks.\n",
              "      quickchartButtonEl.classList.add('colab-df-spinner');\n",
              "      try {\n",
              "        const charts = await google.colab.kernel.invokeFunction(\n",
              "            'suggestCharts', [key], {});\n",
              "      } catch (error) {\n",
              "        console.error('Error during call to suggestCharts:', error);\n",
              "      }\n",
              "      quickchartButtonEl.classList.remove('colab-df-spinner');\n",
              "      quickchartButtonEl.classList.add('colab-df-quickchart-complete');\n",
              "    }\n",
              "    (() => {\n",
              "      let quickchartButtonEl =\n",
              "        document.querySelector('#df-522b7da4-ea2a-47b3-9c8d-47cefcbe089d button');\n",
              "      quickchartButtonEl.style.display =\n",
              "        google.colab.kernel.accessAllowed ? 'block' : 'none';\n",
              "    })();\n",
              "  </script>\n",
              "</div>\n",
              "\n",
              "    </div>\n",
              "  </div>\n"
            ],
            "application/vnd.google.colaboratory.intrinsic+json": {
              "type": "dataframe",
              "variable_name": "donnee_brutes"
            }
          },
          "metadata": {},
          "execution_count": 10
        }
      ],
      "source": [
        "donnee_brutes.head()"
      ]
    },
    {
      "cell_type": "code",
      "execution_count": null,
      "metadata": {
        "colab": {
          "base_uri": "https://localhost:8080/"
        },
        "id": "JvOhjABfbPOC",
        "outputId": "21523e6a-7407-4f07-8a4e-3fed7de8511c"
      },
      "outputs": [
        {
          "output_type": "execute_result",
          "data": {
            "text/plain": [
              "9964847"
            ]
          },
          "metadata": {},
          "execution_count": 21
        }
      ],
      "source": [
        "len(donnee_brutes)"
      ]
    },
    {
      "cell_type": "code",
      "execution_count": null,
      "metadata": {
        "id": "Cz9rhaSsbPOC"
      },
      "outputs": [],
      "source": [
        "from ydata_profiling import ProfileReport\n",
        "profil = ProfileReport(donnee_brutes)  # explorative=True active toutes les analyses\n"
      ]
    },
    {
      "cell_type": "code",
      "source": [],
      "metadata": {
        "id": "cN7fPsuqeMQ4"
      },
      "execution_count": null,
      "outputs": []
    },
    {
      "cell_type": "code",
      "execution_count": null,
      "metadata": {
        "colab": {
          "base_uri": "https://localhost:8080/",
          "referenced_widgets": [
            "047d7a22e1cd4af290a5de54f3faf48a",
            "0207ad6313d94b58be483db7136f06a4",
            "6dd10315a2784bef8760251afe9ed58f",
            "5244432bc18d43d9b87e15f365582995",
            "89ab97ef55034773b528d1d47562d1a7",
            "39bb6e8a5b72480b9ca298ced2fc2bed",
            "4e6ccc9eca4e4251af3ba1eb1f437191",
            "0dd1434a37584a90ac096c86c1336778",
            "4a7f2b58e85147edabe7d0d936c60c1c",
            "319fdfd92c91459d8c505f4a2dc550a2",
            "c59f39be600a46e792101daeb4662be4"
          ]
        },
        "id": "VYMYraPdbPOD",
        "outputId": "e67338fd-679a-4327-9d9c-c2e1a01ebcec"
      },
      "outputs": [
        {
          "output_type": "display_data",
          "data": {
            "text/plain": [
              "Summarize dataset:   0%|          | 0/5 [00:00<?, ?it/s]"
            ],
            "application/vnd.jupyter.widget-view+json": {
              "version_major": 2,
              "version_minor": 0,
              "model_id": "047d7a22e1cd4af290a5de54f3faf48a"
            }
          },
          "metadata": {}
        }
      ],
      "source": [
        "profil.to_file(\"rapport_données_brutes.html\")"
      ]
    },
    {
      "cell_type": "markdown",
      "source": [
        "# premier traitements\n"
      ],
      "metadata": {
        "id": "Z5PwQj-HfYRS"
      }
    },
    {
      "cell_type": "code",
      "source": [
        "donnee_brutes.columns"
      ],
      "metadata": {
        "colab": {
          "base_uri": "https://localhost:8080/"
        },
        "id": "Kx4diYdYkwrw",
        "outputId": "7fc65b4b-47c8-4cb3-bad3-611d7263c49f"
      },
      "execution_count": null,
      "outputs": [
        {
          "output_type": "execute_result",
          "data": {
            "text/plain": [
              "Index(['date_hour', 'code_departement', 'olt_model', 'olt_name', 'peag_nro',\n",
              "       'boucle', 'dsp', 'pebib', 'pop_dns', 'nb_test_dns', 'avg_dns_time',\n",
              "       'std_dns_time', 'nb_test_scoring', 'avg_latence_scoring',\n",
              "       'std_latence_scoring', 'avg_score_scoring', 'std_score_scoring',\n",
              "       'nb_client_total'],\n",
              "      dtype='object')"
            ]
          },
          "metadata": {},
          "execution_count": 21
        }
      ]
    },
    {
      "cell_type": "code",
      "source": [
        "len(donnee_brutes)"
      ],
      "metadata": {
        "colab": {
          "base_uri": "https://localhost:8080/"
        },
        "id": "Wl3WRa5DfZzU",
        "outputId": "ec012f75-7c72-49d2-a94b-42f3dbd8aae8"
      },
      "execution_count": null,
      "outputs": [
        {
          "output_type": "execute_result",
          "data": {
            "text/plain": [
              "9964847"
            ]
          },
          "metadata": {},
          "execution_count": 19
        }
      ]
    },
    {
      "cell_type": "code",
      "source": [
        "len(donnee_brutes.drop_duplicates())"
      ],
      "metadata": {
        "colab": {
          "base_uri": "https://localhost:8080/"
        },
        "id": "AsXHO8WWkWj2",
        "outputId": "ed11fb5d-9278-4a9e-cceb-72f0d49c5bf9"
      },
      "execution_count": null,
      "outputs": [
        {
          "output_type": "execute_result",
          "data": {
            "text/plain": [
              "9706333"
            ]
          },
          "metadata": {},
          "execution_count": 20
        }
      ]
    },
    {
      "cell_type": "code",
      "source": [
        "\n",
        "len(donnee_brutes[donnee_brutes['nb_test_dns'] > 10])\n"
      ],
      "metadata": {
        "colab": {
          "base_uri": "https://localhost:8080/"
        },
        "id": "hTD1uh7-kp1D",
        "outputId": "12ba8a77-dc01-4a24-f430-318abd1403a7"
      },
      "execution_count": null,
      "outputs": [
        {
          "output_type": "execute_result",
          "data": {
            "text/plain": [
              "4073101"
            ]
          },
          "metadata": {},
          "execution_count": 24
        }
      ]
    },
    {
      "cell_type": "code",
      "source": [
        "données_brutes.show(10)"
      ],
      "metadata": {
        "id": "YidLE5lUgbOe"
      },
      "execution_count": null,
      "outputs": []
    }
  ],
  "metadata": {
    "kernelspec": {
      "display_name": ".venv",
      "language": "python",
      "name": "python3"
    },
    "language_info": {
      "codemirror_mode": {
        "name": "ipython",
        "version": 3
      },
      "file_extension": ".py",
      "mimetype": "text/x-python",
      "name": "python",
      "nbconvert_exporter": "python",
      "pygments_lexer": "ipython3",
      "version": "3.11.0"
    },
    "colab": {
      "provenance": []
    },
    "widgets": {
      "application/vnd.jupyter.widget-state+json": {
        "047d7a22e1cd4af290a5de54f3faf48a": {
          "model_module": "@jupyter-widgets/controls",
          "model_name": "HBoxModel",
          "model_module_version": "1.5.0",
          "state": {
            "_dom_classes": [],
            "_model_module": "@jupyter-widgets/controls",
            "_model_module_version": "1.5.0",
            "_model_name": "HBoxModel",
            "_view_count": null,
            "_view_module": "@jupyter-widgets/controls",
            "_view_module_version": "1.5.0",
            "_view_name": "HBoxView",
            "box_style": "",
            "children": [
              "IPY_MODEL_0207ad6313d94b58be483db7136f06a4",
              "IPY_MODEL_6dd10315a2784bef8760251afe9ed58f",
              "IPY_MODEL_5244432bc18d43d9b87e15f365582995"
            ],
            "layout": "IPY_MODEL_89ab97ef55034773b528d1d47562d1a7"
          }
        },
        "0207ad6313d94b58be483db7136f06a4": {
          "model_module": "@jupyter-widgets/controls",
          "model_name": "HTMLModel",
          "model_module_version": "1.5.0",
          "state": {
            "_dom_classes": [],
            "_model_module": "@jupyter-widgets/controls",
            "_model_module_version": "1.5.0",
            "_model_name": "HTMLModel",
            "_view_count": null,
            "_view_module": "@jupyter-widgets/controls",
            "_view_module_version": "1.5.0",
            "_view_name": "HTMLView",
            "description": "",
            "description_tooltip": null,
            "layout": "IPY_MODEL_39bb6e8a5b72480b9ca298ced2fc2bed",
            "placeholder": "​",
            "style": "IPY_MODEL_4e6ccc9eca4e4251af3ba1eb1f437191",
            "value": "Summarize dataset:  94%"
          }
        },
        "6dd10315a2784bef8760251afe9ed58f": {
          "model_module": "@jupyter-widgets/controls",
          "model_name": "FloatProgressModel",
          "model_module_version": "1.5.0",
          "state": {
            "_dom_classes": [],
            "_model_module": "@jupyter-widgets/controls",
            "_model_module_version": "1.5.0",
            "_model_name": "FloatProgressModel",
            "_view_count": null,
            "_view_module": "@jupyter-widgets/controls",
            "_view_module_version": "1.5.0",
            "_view_name": "ProgressView",
            "bar_style": "",
            "description": "",
            "description_tooltip": null,
            "layout": "IPY_MODEL_0dd1434a37584a90ac096c86c1336778",
            "max": 5,
            "min": 0,
            "orientation": "horizontal",
            "style": "IPY_MODEL_4a7f2b58e85147edabe7d0d936c60c1c",
            "value": 5
          }
        },
        "5244432bc18d43d9b87e15f365582995": {
          "model_module": "@jupyter-widgets/controls",
          "model_name": "HTMLModel",
          "model_module_version": "1.5.0",
          "state": {
            "_dom_classes": [],
            "_model_module": "@jupyter-widgets/controls",
            "_model_module_version": "1.5.0",
            "_model_name": "HTMLModel",
            "_view_count": null,
            "_view_module": "@jupyter-widgets/controls",
            "_view_module_version": "1.5.0",
            "_view_name": "HTMLView",
            "description": "",
            "description_tooltip": null,
            "layout": "IPY_MODEL_319fdfd92c91459d8c505f4a2dc550a2",
            "placeholder": "​",
            "style": "IPY_MODEL_c59f39be600a46e792101daeb4662be4",
            "value": " 103/109 [12:00&lt;00:15,  2.54s/it, Missing diagram matrix]"
          }
        },
        "89ab97ef55034773b528d1d47562d1a7": {
          "model_module": "@jupyter-widgets/base",
          "model_name": "LayoutModel",
          "model_module_version": "1.2.0",
          "state": {
            "_model_module": "@jupyter-widgets/base",
            "_model_module_version": "1.2.0",
            "_model_name": "LayoutModel",
            "_view_count": null,
            "_view_module": "@jupyter-widgets/base",
            "_view_module_version": "1.2.0",
            "_view_name": "LayoutView",
            "align_content": null,
            "align_items": null,
            "align_self": null,
            "border": null,
            "bottom": null,
            "display": null,
            "flex": null,
            "flex_flow": null,
            "grid_area": null,
            "grid_auto_columns": null,
            "grid_auto_flow": null,
            "grid_auto_rows": null,
            "grid_column": null,
            "grid_gap": null,
            "grid_row": null,
            "grid_template_areas": null,
            "grid_template_columns": null,
            "grid_template_rows": null,
            "height": null,
            "justify_content": null,
            "justify_items": null,
            "left": null,
            "margin": null,
            "max_height": null,
            "max_width": null,
            "min_height": null,
            "min_width": null,
            "object_fit": null,
            "object_position": null,
            "order": null,
            "overflow": null,
            "overflow_x": null,
            "overflow_y": null,
            "padding": null,
            "right": null,
            "top": null,
            "visibility": null,
            "width": null
          }
        },
        "39bb6e8a5b72480b9ca298ced2fc2bed": {
          "model_module": "@jupyter-widgets/base",
          "model_name": "LayoutModel",
          "model_module_version": "1.2.0",
          "state": {
            "_model_module": "@jupyter-widgets/base",
            "_model_module_version": "1.2.0",
            "_model_name": "LayoutModel",
            "_view_count": null,
            "_view_module": "@jupyter-widgets/base",
            "_view_module_version": "1.2.0",
            "_view_name": "LayoutView",
            "align_content": null,
            "align_items": null,
            "align_self": null,
            "border": null,
            "bottom": null,
            "display": null,
            "flex": null,
            "flex_flow": null,
            "grid_area": null,
            "grid_auto_columns": null,
            "grid_auto_flow": null,
            "grid_auto_rows": null,
            "grid_column": null,
            "grid_gap": null,
            "grid_row": null,
            "grid_template_areas": null,
            "grid_template_columns": null,
            "grid_template_rows": null,
            "height": null,
            "justify_content": null,
            "justify_items": null,
            "left": null,
            "margin": null,
            "max_height": null,
            "max_width": null,
            "min_height": null,
            "min_width": null,
            "object_fit": null,
            "object_position": null,
            "order": null,
            "overflow": null,
            "overflow_x": null,
            "overflow_y": null,
            "padding": null,
            "right": null,
            "top": null,
            "visibility": null,
            "width": null
          }
        },
        "4e6ccc9eca4e4251af3ba1eb1f437191": {
          "model_module": "@jupyter-widgets/controls",
          "model_name": "DescriptionStyleModel",
          "model_module_version": "1.5.0",
          "state": {
            "_model_module": "@jupyter-widgets/controls",
            "_model_module_version": "1.5.0",
            "_model_name": "DescriptionStyleModel",
            "_view_count": null,
            "_view_module": "@jupyter-widgets/base",
            "_view_module_version": "1.2.0",
            "_view_name": "StyleView",
            "description_width": ""
          }
        },
        "0dd1434a37584a90ac096c86c1336778": {
          "model_module": "@jupyter-widgets/base",
          "model_name": "LayoutModel",
          "model_module_version": "1.2.0",
          "state": {
            "_model_module": "@jupyter-widgets/base",
            "_model_module_version": "1.2.0",
            "_model_name": "LayoutModel",
            "_view_count": null,
            "_view_module": "@jupyter-widgets/base",
            "_view_module_version": "1.2.0",
            "_view_name": "LayoutView",
            "align_content": null,
            "align_items": null,
            "align_self": null,
            "border": null,
            "bottom": null,
            "display": null,
            "flex": null,
            "flex_flow": null,
            "grid_area": null,
            "grid_auto_columns": null,
            "grid_auto_flow": null,
            "grid_auto_rows": null,
            "grid_column": null,
            "grid_gap": null,
            "grid_row": null,
            "grid_template_areas": null,
            "grid_template_columns": null,
            "grid_template_rows": null,
            "height": null,
            "justify_content": null,
            "justify_items": null,
            "left": null,
            "margin": null,
            "max_height": null,
            "max_width": null,
            "min_height": null,
            "min_width": null,
            "object_fit": null,
            "object_position": null,
            "order": null,
            "overflow": null,
            "overflow_x": null,
            "overflow_y": null,
            "padding": null,
            "right": null,
            "top": null,
            "visibility": null,
            "width": null
          }
        },
        "4a7f2b58e85147edabe7d0d936c60c1c": {
          "model_module": "@jupyter-widgets/controls",
          "model_name": "ProgressStyleModel",
          "model_module_version": "1.5.0",
          "state": {
            "_model_module": "@jupyter-widgets/controls",
            "_model_module_version": "1.5.0",
            "_model_name": "ProgressStyleModel",
            "_view_count": null,
            "_view_module": "@jupyter-widgets/base",
            "_view_module_version": "1.2.0",
            "_view_name": "StyleView",
            "bar_color": null,
            "description_width": ""
          }
        },
        "319fdfd92c91459d8c505f4a2dc550a2": {
          "model_module": "@jupyter-widgets/base",
          "model_name": "LayoutModel",
          "model_module_version": "1.2.0",
          "state": {
            "_model_module": "@jupyter-widgets/base",
            "_model_module_version": "1.2.0",
            "_model_name": "LayoutModel",
            "_view_count": null,
            "_view_module": "@jupyter-widgets/base",
            "_view_module_version": "1.2.0",
            "_view_name": "LayoutView",
            "align_content": null,
            "align_items": null,
            "align_self": null,
            "border": null,
            "bottom": null,
            "display": null,
            "flex": null,
            "flex_flow": null,
            "grid_area": null,
            "grid_auto_columns": null,
            "grid_auto_flow": null,
            "grid_auto_rows": null,
            "grid_column": null,
            "grid_gap": null,
            "grid_row": null,
            "grid_template_areas": null,
            "grid_template_columns": null,
            "grid_template_rows": null,
            "height": null,
            "justify_content": null,
            "justify_items": null,
            "left": null,
            "margin": null,
            "max_height": null,
            "max_width": null,
            "min_height": null,
            "min_width": null,
            "object_fit": null,
            "object_position": null,
            "order": null,
            "overflow": null,
            "overflow_x": null,
            "overflow_y": null,
            "padding": null,
            "right": null,
            "top": null,
            "visibility": null,
            "width": null
          }
        },
        "c59f39be600a46e792101daeb4662be4": {
          "model_module": "@jupyter-widgets/controls",
          "model_name": "DescriptionStyleModel",
          "model_module_version": "1.5.0",
          "state": {
            "_model_module": "@jupyter-widgets/controls",
            "_model_module_version": "1.5.0",
            "_model_name": "DescriptionStyleModel",
            "_view_count": null,
            "_view_module": "@jupyter-widgets/base",
            "_view_module_version": "1.2.0",
            "_view_name": "StyleView",
            "description_width": ""
          }
        }
      }
    }
  },
  "nbformat": 4,
  "nbformat_minor": 0
}