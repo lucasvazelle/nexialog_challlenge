{
 "cells": [
  {
   "cell_type": "code",
   "execution_count": 4,
   "metadata": {},
   "outputs": [
    {
     "ename": "PySparkRuntimeError",
     "evalue": "[JAVA_GATEWAY_EXITED] Java gateway process exited before sending its port number.",
     "output_type": "error",
     "traceback": [
      "\u001b[31m---------------------------------------------------------------------------\u001b[39m",
      "\u001b[31mPySparkRuntimeError\u001b[39m                       Traceback (most recent call last)",
      "\u001b[36mCell\u001b[39m\u001b[36m \u001b[39m\u001b[32mIn[4]\u001b[39m\u001b[32m, line 8\u001b[39m\n\u001b[32m      3\u001b[39m \u001b[38;5;28;01mfrom\u001b[39;00m\u001b[38;5;250m \u001b[39m\u001b[34;01mpyspark\u001b[39;00m\u001b[34;01m.\u001b[39;00m\u001b[34;01msql\u001b[39;00m\u001b[38;5;250m \u001b[39m\u001b[38;5;28;01mimport\u001b[39;00m SparkSession\n\u001b[32m      5\u001b[39m \u001b[38;5;66;03m# Initialiser une session Spark\u001b[39;00m\n\u001b[32m      6\u001b[39m spark = \u001b[43mSparkSession\u001b[49m\u001b[43m.\u001b[49m\u001b[43mbuilder\u001b[49m\u001b[43m \u001b[49m\u001b[43m\\\u001b[49m\n\u001b[32m      7\u001b[39m \u001b[43m    \u001b[49m\u001b[43m.\u001b[49m\u001b[43mappName\u001b[49m\u001b[43m(\u001b[49m\u001b[33;43m\"\u001b[39;49m\u001b[33;43mNexialog Anomaly Detection\u001b[39;49m\u001b[33;43m\"\u001b[39;49m\u001b[43m)\u001b[49m\u001b[43m \u001b[49m\u001b[43m\\\u001b[49m\n\u001b[32m----> \u001b[39m\u001b[32m8\u001b[39m \u001b[43m    \u001b[49m\u001b[43m.\u001b[49m\u001b[43mgetOrCreate\u001b[49m\u001b[43m(\u001b[49m\u001b[43m)\u001b[49m\n",
      "\u001b[36mFile \u001b[39m\u001b[32mc:\\Users\\lucas\\OneDrive\\Documents\\M2 MSOEF\\challenge\\nexialog\\.venv\\Lib\\site-packages\\pyspark\\sql\\session.py:497\u001b[39m, in \u001b[36mSparkSession.Builder.getOrCreate\u001b[39m\u001b[34m(self)\u001b[39m\n\u001b[32m    495\u001b[39m     sparkConf.set(key, value)\n\u001b[32m    496\u001b[39m \u001b[38;5;66;03m# This SparkContext may be an existing one.\u001b[39;00m\n\u001b[32m--> \u001b[39m\u001b[32m497\u001b[39m sc = \u001b[43mSparkContext\u001b[49m\u001b[43m.\u001b[49m\u001b[43mgetOrCreate\u001b[49m\u001b[43m(\u001b[49m\u001b[43msparkConf\u001b[49m\u001b[43m)\u001b[49m\n\u001b[32m    498\u001b[39m \u001b[38;5;66;03m# Do not update `SparkConf` for existing `SparkContext`, as it's shared\u001b[39;00m\n\u001b[32m    499\u001b[39m \u001b[38;5;66;03m# by all sessions.\u001b[39;00m\n\u001b[32m    500\u001b[39m session = SparkSession(sc, options=\u001b[38;5;28mself\u001b[39m._options)\n",
      "\u001b[36mFile \u001b[39m\u001b[32mc:\\Users\\lucas\\OneDrive\\Documents\\M2 MSOEF\\challenge\\nexialog\\.venv\\Lib\\site-packages\\pyspark\\context.py:515\u001b[39m, in \u001b[36mSparkContext.getOrCreate\u001b[39m\u001b[34m(cls, conf)\u001b[39m\n\u001b[32m    513\u001b[39m \u001b[38;5;28;01mwith\u001b[39;00m SparkContext._lock:\n\u001b[32m    514\u001b[39m     \u001b[38;5;28;01mif\u001b[39;00m SparkContext._active_spark_context \u001b[38;5;129;01mis\u001b[39;00m \u001b[38;5;28;01mNone\u001b[39;00m:\n\u001b[32m--> \u001b[39m\u001b[32m515\u001b[39m         \u001b[43mSparkContext\u001b[49m\u001b[43m(\u001b[49m\u001b[43mconf\u001b[49m\u001b[43m=\u001b[49m\u001b[43mconf\u001b[49m\u001b[43m \u001b[49m\u001b[38;5;129;43;01mor\u001b[39;49;00m\u001b[43m \u001b[49m\u001b[43mSparkConf\u001b[49m\u001b[43m(\u001b[49m\u001b[43m)\u001b[49m\u001b[43m)\u001b[49m\n\u001b[32m    516\u001b[39m     \u001b[38;5;28;01massert\u001b[39;00m SparkContext._active_spark_context \u001b[38;5;129;01mis\u001b[39;00m \u001b[38;5;129;01mnot\u001b[39;00m \u001b[38;5;28;01mNone\u001b[39;00m\n\u001b[32m    517\u001b[39m     \u001b[38;5;28;01mreturn\u001b[39;00m SparkContext._active_spark_context\n",
      "\u001b[36mFile \u001b[39m\u001b[32mc:\\Users\\lucas\\OneDrive\\Documents\\M2 MSOEF\\challenge\\nexialog\\.venv\\Lib\\site-packages\\pyspark\\context.py:201\u001b[39m, in \u001b[36mSparkContext.__init__\u001b[39m\u001b[34m(self, master, appName, sparkHome, pyFiles, environment, batchSize, serializer, conf, gateway, jsc, profiler_cls, udf_profiler_cls, memory_profiler_cls)\u001b[39m\n\u001b[32m    195\u001b[39m \u001b[38;5;28;01mif\u001b[39;00m gateway \u001b[38;5;129;01mis\u001b[39;00m \u001b[38;5;129;01mnot\u001b[39;00m \u001b[38;5;28;01mNone\u001b[39;00m \u001b[38;5;129;01mand\u001b[39;00m gateway.gateway_parameters.auth_token \u001b[38;5;129;01mis\u001b[39;00m \u001b[38;5;28;01mNone\u001b[39;00m:\n\u001b[32m    196\u001b[39m     \u001b[38;5;28;01mraise\u001b[39;00m \u001b[38;5;167;01mValueError\u001b[39;00m(\n\u001b[32m    197\u001b[39m         \u001b[33m\"\u001b[39m\u001b[33mYou are trying to pass an insecure Py4j gateway to Spark. This\u001b[39m\u001b[33m\"\u001b[39m\n\u001b[32m    198\u001b[39m         \u001b[33m\"\u001b[39m\u001b[33m is not allowed as it is a security risk.\u001b[39m\u001b[33m\"\u001b[39m\n\u001b[32m    199\u001b[39m     )\n\u001b[32m--> \u001b[39m\u001b[32m201\u001b[39m \u001b[43mSparkContext\u001b[49m\u001b[43m.\u001b[49m\u001b[43m_ensure_initialized\u001b[49m\u001b[43m(\u001b[49m\u001b[38;5;28;43mself\u001b[39;49m\u001b[43m,\u001b[49m\u001b[43m \u001b[49m\u001b[43mgateway\u001b[49m\u001b[43m=\u001b[49m\u001b[43mgateway\u001b[49m\u001b[43m,\u001b[49m\u001b[43m \u001b[49m\u001b[43mconf\u001b[49m\u001b[43m=\u001b[49m\u001b[43mconf\u001b[49m\u001b[43m)\u001b[49m\n\u001b[32m    202\u001b[39m \u001b[38;5;28;01mtry\u001b[39;00m:\n\u001b[32m    203\u001b[39m     \u001b[38;5;28mself\u001b[39m._do_init(\n\u001b[32m    204\u001b[39m         master,\n\u001b[32m    205\u001b[39m         appName,\n\u001b[32m   (...)\u001b[39m\u001b[32m    215\u001b[39m         memory_profiler_cls,\n\u001b[32m    216\u001b[39m     )\n",
      "\u001b[36mFile \u001b[39m\u001b[32mc:\\Users\\lucas\\OneDrive\\Documents\\M2 MSOEF\\challenge\\nexialog\\.venv\\Lib\\site-packages\\pyspark\\context.py:436\u001b[39m, in \u001b[36mSparkContext._ensure_initialized\u001b[39m\u001b[34m(cls, instance, gateway, conf)\u001b[39m\n\u001b[32m    434\u001b[39m \u001b[38;5;28;01mwith\u001b[39;00m SparkContext._lock:\n\u001b[32m    435\u001b[39m     \u001b[38;5;28;01mif\u001b[39;00m \u001b[38;5;129;01mnot\u001b[39;00m SparkContext._gateway:\n\u001b[32m--> \u001b[39m\u001b[32m436\u001b[39m         SparkContext._gateway = gateway \u001b[38;5;129;01mor\u001b[39;00m \u001b[43mlaunch_gateway\u001b[49m\u001b[43m(\u001b[49m\u001b[43mconf\u001b[49m\u001b[43m)\u001b[49m\n\u001b[32m    437\u001b[39m         SparkContext._jvm = SparkContext._gateway.jvm\n\u001b[32m    439\u001b[39m     \u001b[38;5;28;01mif\u001b[39;00m instance:\n",
      "\u001b[36mFile \u001b[39m\u001b[32mc:\\Users\\lucas\\OneDrive\\Documents\\M2 MSOEF\\challenge\\nexialog\\.venv\\Lib\\site-packages\\pyspark\\java_gateway.py:107\u001b[39m, in \u001b[36mlaunch_gateway\u001b[39m\u001b[34m(conf, popen_kwargs)\u001b[39m\n\u001b[32m    104\u001b[39m     time.sleep(\u001b[32m0.1\u001b[39m)\n\u001b[32m    106\u001b[39m \u001b[38;5;28;01mif\u001b[39;00m \u001b[38;5;129;01mnot\u001b[39;00m os.path.isfile(conn_info_file):\n\u001b[32m--> \u001b[39m\u001b[32m107\u001b[39m     \u001b[38;5;28;01mraise\u001b[39;00m PySparkRuntimeError(\n\u001b[32m    108\u001b[39m         error_class=\u001b[33m\"\u001b[39m\u001b[33mJAVA_GATEWAY_EXITED\u001b[39m\u001b[33m\"\u001b[39m,\n\u001b[32m    109\u001b[39m         message_parameters={},\n\u001b[32m    110\u001b[39m     )\n\u001b[32m    112\u001b[39m \u001b[38;5;28;01mwith\u001b[39;00m \u001b[38;5;28mopen\u001b[39m(conn_info_file, \u001b[33m\"\u001b[39m\u001b[33mrb\u001b[39m\u001b[33m\"\u001b[39m) \u001b[38;5;28;01mas\u001b[39;00m info:\n\u001b[32m    113\u001b[39m     gateway_port = read_int(info)\n",
      "\u001b[31mPySparkRuntimeError\u001b[39m: [JAVA_GATEWAY_EXITED] Java gateway process exited before sending its port number."
     ]
    }
   ],
   "source": [
    "import pandas as pd\n",
    "from ydata_profiling import ProfileReport\n",
    "from pyspark.sql import SparkSession\n",
    "\n",
    "# Initialiser une session Spark\n",
    "spark = SparkSession.builder \\\n",
    "    .appName(\"Nexialog Anomaly Detection\") \\\n",
    "    .getOrCreate()\n",
    "\n"
   ]
  },
  {
   "cell_type": "code",
   "execution_count": null,
   "metadata": {},
   "outputs": [],
   "source": [
    "file_path = (r\"data/250203_tests_fixe_dns_sah_202412_202501.parquet\") #dans .gitignore\n"
   ]
  },
  {
   "cell_type": "code",
   "execution_count": 3,
   "metadata": {},
   "outputs": [],
   "source": [
    "donnee_brutes = pd.read_parquet(file_path, engine=\"pyarrow\")  # ou engine=\"fastparquet\"\n"
   ]
  },
  {
   "cell_type": "code",
   "execution_count": 4,
   "metadata": {},
   "outputs": [
    {
     "data": {
      "text/html": [
       "<div>\n",
       "<style scoped>\n",
       "    .dataframe tbody tr th:only-of-type {\n",
       "        vertical-align: middle;\n",
       "    }\n",
       "\n",
       "    .dataframe tbody tr th {\n",
       "        vertical-align: top;\n",
       "    }\n",
       "\n",
       "    .dataframe thead th {\n",
       "        text-align: right;\n",
       "    }\n",
       "</style>\n",
       "<table border=\"1\" class=\"dataframe\">\n",
       "  <thead>\n",
       "    <tr style=\"text-align: right;\">\n",
       "      <th></th>\n",
       "      <th>date_hour</th>\n",
       "      <th>code_departement</th>\n",
       "      <th>olt_model</th>\n",
       "      <th>olt_name</th>\n",
       "      <th>peag_nro</th>\n",
       "      <th>boucle</th>\n",
       "      <th>dsp</th>\n",
       "      <th>pebib</th>\n",
       "      <th>pop_dns</th>\n",
       "      <th>nb_test_dns</th>\n",
       "      <th>avg_dns_time</th>\n",
       "      <th>std_dns_time</th>\n",
       "      <th>nb_test_scoring</th>\n",
       "      <th>avg_latence_scoring</th>\n",
       "      <th>std_latence_scoring</th>\n",
       "      <th>avg_score_scoring</th>\n",
       "      <th>std_score_scoring</th>\n",
       "      <th>nb_client_total</th>\n",
       "    </tr>\n",
       "  </thead>\n",
       "  <tbody>\n",
       "    <tr>\n",
       "      <th>0</th>\n",
       "      <td>2024-12-01</td>\n",
       "      <td>01</td>\n",
       "      <td>old0</td>\n",
       "      <td>01_olt_1</td>\n",
       "      <td>01_peag_1</td>\n",
       "      <td>BU966</td>\n",
       "      <td>dsp_1</td>\n",
       "      <td>69_pebib_1</td>\n",
       "      <td>69_lyon</td>\n",
       "      <td>61</td>\n",
       "      <td>4.888439</td>\n",
       "      <td>0.834768</td>\n",
       "      <td>25</td>\n",
       "      <td>10.462500</td>\n",
       "      <td>0.843750</td>\n",
       "      <td>2.852823</td>\n",
       "      <td>0.550380</td>\n",
       "      <td>86</td>\n",
       "    </tr>\n",
       "    <tr>\n",
       "      <th>1</th>\n",
       "      <td>2024-12-01</td>\n",
       "      <td>01</td>\n",
       "      <td>old0</td>\n",
       "      <td>01_olt_2</td>\n",
       "      <td>01_peag_2</td>\n",
       "      <td>BU966</td>\n",
       "      <td>dsp_1</td>\n",
       "      <td>21_pebib_2</td>\n",
       "      <td>69_lyon</td>\n",
       "      <td>60</td>\n",
       "      <td>6.341362</td>\n",
       "      <td>2.033462</td>\n",
       "      <td>18</td>\n",
       "      <td>11.000000</td>\n",
       "      <td>0.346331</td>\n",
       "      <td>3.100490</td>\n",
       "      <td>0.451774</td>\n",
       "      <td>78</td>\n",
       "    </tr>\n",
       "    <tr>\n",
       "      <th>2</th>\n",
       "      <td>2024-12-01</td>\n",
       "      <td>01</td>\n",
       "      <td>M11</td>\n",
       "      <td>01_olt_3</td>\n",
       "      <td>01_peag_3</td>\n",
       "      <td>BU1464</td>\n",
       "      <td>dsp_1</td>\n",
       "      <td>69_pebib_3</td>\n",
       "      <td>69_lyon</td>\n",
       "      <td>23</td>\n",
       "      <td>6.845641</td>\n",
       "      <td>0.377309</td>\n",
       "      <td>9</td>\n",
       "      <td>11.437500</td>\n",
       "      <td>0.281250</td>\n",
       "      <td>3.258823</td>\n",
       "      <td>0.375156</td>\n",
       "      <td>32</td>\n",
       "    </tr>\n",
       "    <tr>\n",
       "      <th>3</th>\n",
       "      <td>2024-12-01</td>\n",
       "      <td>01</td>\n",
       "      <td>M11</td>\n",
       "      <td>01_olt_4</td>\n",
       "      <td>01_peag_3</td>\n",
       "      <td>BU1464</td>\n",
       "      <td>dsp_1</td>\n",
       "      <td>69_pebib_3</td>\n",
       "      <td>69_lyon</td>\n",
       "      <td>10</td>\n",
       "      <td>7.060350</td>\n",
       "      <td>0.392031</td>\n",
       "      <td>4</td>\n",
       "      <td>12.656250</td>\n",
       "      <td>2.079476</td>\n",
       "      <td>2.576471</td>\n",
       "      <td>1.272078</td>\n",
       "      <td>14</td>\n",
       "    </tr>\n",
       "    <tr>\n",
       "      <th>4</th>\n",
       "      <td>2024-12-01</td>\n",
       "      <td>01</td>\n",
       "      <td>M13</td>\n",
       "      <td>01_olt_5</td>\n",
       "      <td>01_peag_4</td>\n",
       "      <td>BU458</td>\n",
       "      <td>dsp_1</td>\n",
       "      <td>None</td>\n",
       "      <td>69_lyon</td>\n",
       "      <td>28</td>\n",
       "      <td>2.787241</td>\n",
       "      <td>0.410001</td>\n",
       "      <td>16</td>\n",
       "      <td>8.542969</td>\n",
       "      <td>0.512205</td>\n",
       "      <td>2.868750</td>\n",
       "      <td>0.714469</td>\n",
       "      <td>44</td>\n",
       "    </tr>\n",
       "  </tbody>\n",
       "</table>\n",
       "</div>"
      ],
      "text/plain": [
       "   date_hour code_departement olt_model  olt_name   peag_nro  boucle    dsp  \\\n",
       "0 2024-12-01               01      old0  01_olt_1  01_peag_1   BU966  dsp_1   \n",
       "1 2024-12-01               01      old0  01_olt_2  01_peag_2   BU966  dsp_1   \n",
       "2 2024-12-01               01       M11  01_olt_3  01_peag_3  BU1464  dsp_1   \n",
       "3 2024-12-01               01       M11  01_olt_4  01_peag_3  BU1464  dsp_1   \n",
       "4 2024-12-01               01       M13  01_olt_5  01_peag_4   BU458  dsp_1   \n",
       "\n",
       "        pebib  pop_dns  nb_test_dns  avg_dns_time  std_dns_time  \\\n",
       "0  69_pebib_1  69_lyon           61      4.888439      0.834768   \n",
       "1  21_pebib_2  69_lyon           60      6.341362      2.033462   \n",
       "2  69_pebib_3  69_lyon           23      6.845641      0.377309   \n",
       "3  69_pebib_3  69_lyon           10      7.060350      0.392031   \n",
       "4        None  69_lyon           28      2.787241      0.410001   \n",
       "\n",
       "   nb_test_scoring  avg_latence_scoring  std_latence_scoring  \\\n",
       "0               25            10.462500             0.843750   \n",
       "1               18            11.000000             0.346331   \n",
       "2                9            11.437500             0.281250   \n",
       "3                4            12.656250             2.079476   \n",
       "4               16             8.542969             0.512205   \n",
       "\n",
       "   avg_score_scoring  std_score_scoring  nb_client_total  \n",
       "0           2.852823           0.550380               86  \n",
       "1           3.100490           0.451774               78  \n",
       "2           3.258823           0.375156               32  \n",
       "3           2.576471           1.272078               14  \n",
       "4           2.868750           0.714469               44  "
      ]
     },
     "execution_count": 4,
     "metadata": {},
     "output_type": "execute_result"
    }
   ],
   "source": [
    "donnee_brutes.head()"
   ]
  },
  {
   "cell_type": "code",
   "execution_count": 5,
   "metadata": {},
   "outputs": [
    {
     "data": {
      "text/plain": [
       "9964847"
      ]
     },
     "execution_count": 5,
     "metadata": {},
     "output_type": "execute_result"
    }
   ],
   "source": [
    "len(donnee_brutes)"
   ]
  },
  {
   "cell_type": "code",
   "execution_count": 16,
   "metadata": {},
   "outputs": [],
   "source": [
    "donnee_brutes_réduite = donnee_brutes.sample(n=7000000, random_state=42)  # Prendre un échantillon\n"
   ]
  },
  {
   "cell_type": "code",
   "execution_count": null,
   "metadata": {},
   "outputs": [
    {
     "ename": "",
     "evalue": "",
     "output_type": "error",
     "traceback": [
      "\u001b[1;31mLe noyau s’est bloqué lors de l’exécution du code dans une cellule active ou une cellule précédente. \n",
      "\u001b[1;31mVeuillez vérifier le code dans la ou les cellules pour identifier une cause possible de l’échec. \n",
      "\u001b[1;31mCliquez <a href='https://aka.ms/vscodeJupyterKernelCrash'>ici</a> pour plus d’informations. \n",
      "\u001b[1;31mPour plus d’informations, consultez Jupyter <a href='command:jupyter.viewOutput'>log</a>."
     ]
    }
   ],
   "source": [
    "profil = ProfileReport(donnee_brutes_réduite)  # explorative=True active toutes les analyses\n"
   ]
  },
  {
   "cell_type": "code",
   "execution_count": null,
   "metadata": {},
   "outputs": [
    {
     "name": "stderr",
     "output_type": "stream",
     "text": [
      "Summarize dataset:   0%|          | 0/5 [00:00<?, ?it/s]"
     ]
    },
    {
     "name": "stderr",
     "output_type": "stream",
     "text": [
      "Summarize dataset:   0%|          | 0/23 [01:14<?, ?it/s]\n"
     ]
    }
   ],
   "source": [
    "profil.to_file(\"rapport_données_brutes.html\")"
   ]
  }
 ],
 "metadata": {
  "kernelspec": {
   "display_name": ".venv",
   "language": "python",
   "name": "python3"
  },
  "language_info": {
   "codemirror_mode": {
    "name": "ipython",
    "version": 3
   },
   "file_extension": ".py",
   "mimetype": "text/x-python",
   "name": "python",
   "nbconvert_exporter": "python",
   "pygments_lexer": "ipython3",
   "version": "3.11.0"
  }
 },
 "nbformat": 4,
 "nbformat_minor": 2
}
